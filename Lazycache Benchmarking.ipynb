{
 "cells": [
  {
   "cell_type": "code",
   "execution_count": 2,
   "metadata": {},
   "outputs": [],
   "source": [
    "%matplotlib inline\n",
    "import numpy as np\n",
    "import matplotlib.pyplot as plt\n",
    "plt.rc('figure', figsize=(12, 12))\n",
    "\n",
    "import requests\n",
    "import random"
   ]
  },
  {
   "cell_type": "code",
   "execution_count": 3,
   "metadata": {
    "collapsed": true
   },
   "outputs": [],
   "source": [
    "import time\n",
    "\n",
    "class Timer(object):\n",
    "    def __init__(self, verbose=False):\n",
    "        self.verbose = verbose\n",
    "\n",
    "    def __enter__(self):\n",
    "        self.start = time.time()\n",
    "        return self\n",
    "\n",
    "    def __exit__(self, *args):\n",
    "        self.end = time.time()\n",
    "        self.secs = self.end - self.start\n",
    "        self.msecs = self.secs * 1000  # millisecs\n",
    "        if self.verbose:\n",
    "            print( 'elapsed time: %f ms' % self.msecs)"
   ]
  },
  {
   "cell_type": "code",
   "execution_count": 5,
   "metadata": {
    "collapsed": true
   },
   "outputs": [],
   "source": [
    "filename = 'CAMHDA301-20160724T030000Z.mov'\n",
    "# local_filename = '/v1/berna/data/' + filename\n",
    "# nginx_filename = '/v1/nginx_data/' + filename\n",
    "ci_filename = '/v1/org/oceanobservatories/rawdata/files/RS03ASHS/PN03B/06-CAMHDA301/2016/07/24/' + filename\n",
    "frame_number = 7000\n",
    "\n",
    "num_frames = 10\n",
    "\n",
    "def random_frames( n_frames ):\n",
    "    random.seed(5)   # I want this to be _non_-random\n",
    "    return random.sample(range(25000), n_frames )\n",
    "\n",
    "noncached_port = 9080\n",
    "cached_port = 7080\n",
    "    "
   ]
  },
  {
   "cell_type": "code",
   "execution_count": 8,
   "metadata": {
    "collapsed": true
   },
   "outputs": [],
   "source": [
    "def get_frame( url, frame_number ):\n",
    "    url = url + \"/frame/%d\" % i\n",
    "    r = requests.get(url)\n",
    "    ## TODO: Validation here\n",
    "    \n",
    "def get_local( port, frame_number ):\n",
    "    get_frame( (\"http://localhost:%d\" % port) + local_filename, frame_number )\n",
    "    \n",
    "def get_nginx( port, frame_number ):\n",
    "    get_frame( (\"http://localhost:%d\" % port) + nginx_filename, frame_number )\n",
    "    \n",
    "def get_ci( port, frame_number ):\n",
    "    get_frame( (\"http://localhost:%d\" % port) + ci_filename, frame_number )\n"
   ]
  },
  {
   "cell_type": "markdown",
   "metadata": {},
   "source": [
    "# Non-cached Lazycache operating on local data"
   ]
  },
  {
   "cell_type": "code",
   "execution_count": 156,
   "metadata": {},
   "outputs": [
    {
     "name": "stdout",
     "output_type": "stream",
     "text": [
      "Local, noncached: 619.247842 ms per frame\n"
     ]
    }
   ],
   "source": [
    "times = []\n",
    "for i in random_frames(num_frames):\n",
    "    with Timer() as t:\n",
    "        get_local( noncached_port, i )\n",
    "    times.append(t)\n",
    "\n",
    "msec = [t.msecs for t in times]\n",
    "print(\"Local, noncached: %f ms per frame\" % np.mean(msec))"
   ]
  },
  {
   "cell_type": "markdown",
   "metadata": {},
   "source": [
    "# Non-cached Lazycache operating through local HTTP server"
   ]
  },
  {
   "cell_type": "code",
   "execution_count": 157,
   "metadata": {},
   "outputs": [
    {
     "name": "stdout",
     "output_type": "stream",
     "text": [
      "Local, noncached: 621.354747 ms per frame\n"
     ]
    }
   ],
   "source": [
    "times = []\n",
    "for i in random_frames(num_frames):\n",
    "    with Timer() as t:\n",
    "        get_nginx( noncached_port, i )\n",
    "    \n",
    "    times.append(t)\n",
    "\n",
    "msec = [t.msecs for t in times]\n",
    "print(\"Nginx, noncached: %f ms per frame\" % np.mean(msec))"
   ]
  },
  {
   "cell_type": "markdown",
   "metadata": {},
   "source": [
    "# Non-cached Lazycache contacting CI directly"
   ]
  },
  {
   "cell_type": "code",
   "execution_count": 163,
   "metadata": {},
   "outputs": [
    {
     "name": "stdout",
     "output_type": "stream",
     "text": [
      "CI, noncached: 715.747571 ms per frame\n"
     ]
    }
   ],
   "source": [
    "times = []\n",
    "for i in random_frames(num_frames):\n",
    "    with Timer() as t:\n",
    "        get_ci( noncached_port, i )\n",
    "    \n",
    "    times.append(t)\n",
    "\n",
    "msec = [t.msecs for t in times]\n",
    "print(\"CI, noncached: %f ms per frame\" % np.mean(msec))"
   ]
  },
  {
   "cell_type": "markdown",
   "metadata": {},
   "source": [
    "\n",
    "# Cached operating on local data"
   ]
  },
  {
   "cell_type": "code",
   "execution_count": 160,
   "metadata": {},
   "outputs": [
    {
     "name": "stdout",
     "output_type": "stream",
     "text": [
      "Local, cached: 14.524841 ms per frame\n"
     ]
    }
   ],
   "source": [
    "times = []\n",
    "for i in random_frames(num_frames):\n",
    "    with Timer() as t:\n",
    "        get_local( cached_port, i )\n",
    "    \n",
    "    times.append(t)\n",
    "\n",
    "msec = [t.msecs for t in times]\n",
    "print(\"Local, cached: %f ms per frame\" % np.mean(msec))"
   ]
  },
  {
   "cell_type": "code",
   "execution_count": 161,
   "metadata": {},
   "outputs": [
    {
     "name": "stdout",
     "output_type": "stream",
     "text": [
      "Nginx, cached: 14.533353 ms per frame\n"
     ]
    }
   ],
   "source": [
    "times = []\n",
    "for i in random_frames(num_frames):\n",
    "    with Timer() as t:\n",
    "        get_nginx( cached_port, i )\n",
    "    \n",
    "    times.append(t)\n",
    "\n",
    "msec = [t.msecs for t in times]\n",
    "print(\"Nginx, cached: %f ms per frame\" % np.mean(msec))"
   ]
  },
  {
   "cell_type": "code",
   "execution_count": 162,
   "metadata": {},
   "outputs": [
    {
     "name": "stdout",
     "output_type": "stream",
     "text": [
      "CI, noncached: 15.593529 ms per frame\n"
     ]
    }
   ],
   "source": [
    "times = []\n",
    "for i in random_frames(num_frames):\n",
    "    with Timer() as t:\n",
    "        get_ci( cached_port, i )\n",
    "    \n",
    "    times.append(t)\n",
    "\n",
    "msec = [t.msecs for t in times]\n",
    "print(\"CI, noncached: %f ms per frame\" % np.mean(msec))"
   ]
  },
  {
   "cell_type": "markdown",
   "metadata": {},
   "source": [
    "# Google App Engine instance of Lazycache"
   ]
  },
  {
   "cell_type": "code",
   "execution_count": 6,
   "metadata": {
    "collapsed": true
   },
   "outputs": [],
   "source": [
    "def gae_ci( frame_number ):\n",
    "    get_frame( \"https://camhd-app-dev.appspot.com\" + ci_filename, frame_number )"
   ]
  },
  {
   "cell_type": "code",
   "execution_count": 20,
   "metadata": {},
   "outputs": [
    {
     "name": "stdout",
     "output_type": "stream",
     "text": [
      "GAE, cached: 147.112799 ms per frame\n"
     ]
    }
   ],
   "source": [
    "times = []\n",
    "for i in random_frames(num_frames):\n",
    "    with Timer() as t:\n",
    "        gae_ci( i )\n",
    "    \n",
    "    times.append(t)\n",
    "\n",
    "msec = [t.msecs for t in times]\n",
    "print(\"GAE, cached: %f ms per frame\" % np.mean(msec))"
   ]
  },
  {
   "cell_type": "code",
   "execution_count": null,
   "metadata": {
    "collapsed": true
   },
   "outputs": [],
   "source": []
  },
  {
   "cell_type": "code",
   "execution_count": null,
   "metadata": {
    "collapsed": true
   },
   "outputs": [],
   "source": []
  }
 ],
 "metadata": {
  "kernelspec": {
   "display_name": "Python 3",
   "language": "python",
   "name": "python3"
  },
  "language_info": {
   "codemirror_mode": {
    "name": "ipython",
    "version": 3
   },
   "file_extension": ".py",
   "mimetype": "text/x-python",
   "name": "python",
   "nbconvert_exporter": "python",
   "pygments_lexer": "ipython3",
   "version": "3.6.1"
  }
 },
 "nbformat": 4,
 "nbformat_minor": 2
}
