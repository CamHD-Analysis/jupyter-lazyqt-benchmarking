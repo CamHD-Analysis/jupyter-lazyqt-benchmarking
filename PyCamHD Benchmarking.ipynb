{
 "cells": [
  {
   "cell_type": "code",
   "execution_count": 1,
   "metadata": {
    "collapsed": true
   },
   "outputs": [],
   "source": [
    "%matplotlib inline\n",
    "import numpy as np\n",
    "import matplotlib.pyplot as plt\n",
    "plt.rc('figure', figsize=(8,8))\n",
    "\n",
    "import random\n",
    "\n",
    "import pycamhd.lazycache as lazycache     ## For accessing data through a Lazycache instance\n",
    "import pycamhd.lazyqt as lazyqt           ## For accessing data on disk or through HTTP\n",
    "\n",
    "## Local imports\n",
    "from timer import Timer"
   ]
  },
  {
   "cell_type": "code",
   "execution_count": 2,
   "metadata": {
    "collapsed": false
   },
   "outputs": [],
   "source": [
    "filename = '/RS03ASHS/PN03B/06-CAMHDA301/2016/07/24/CAMHDA301-20160724T030000Z.mov'\n",
    "\n",
    "DEFAULT_REPS=100\n",
    "DEFAULT_MAX_FRAME=25000\n",
    "\n",
    "def random_frames( n_frames, max_frame = DEFAULT_MAX_FRAME ):\n",
    "    random.seed(8)   # I want this to be _non_-random\n",
    "    return random.sample(range(1,max_frame), n_frames )\n",
    "\n",
    "def test_lazycache( url, reps=DEFAULT_REPS ):\n",
    "    repo = lazycache.lazycache(url)\n",
    "    return test_repo( repo, reps )\n",
    "    \n",
    "def test_lazyqt( path, reps=DEFAULT_REPS ):\n",
    "    repo = lazyqt.repo( path )\n",
    "    return test_repo( repo, reps )\n",
    "    \n",
    "def test_repo( repo, reps=DEFAULT_REPS ):\n",
    "    times = []\n",
    "    for i in random_frames(reps ):\n",
    "        with Timer() as t:\n",
    "            ## Todo.   Check quality of outcome\n",
    "            repo.get_frame( filename, i )\n",
    "        times.append(t)\n",
    "    \n",
    "    return times\n",
    "\n",
    "\n",
    "local_cached   = 'http://localhost:8080'\n",
    "local_uncached = \"http://localhost:9080\"\n",
    "\n",
    "\n",
    "def process_times( times, desc ):\n",
    "    msec = [t.msecs for t in times]\n",
    "    print(\"%s: %f ms per frame\" % (desc,np.mean(msec)) )\n",
    "\n",
    "    plt.hist( msec, bins = 20, normed=True )\n",
    "    plt.xlabel('msec')\n",
    "    plt.ylabel('frequency')\n"
   ]
  },
  {
   "cell_type": "markdown",
   "metadata": {},
   "source": [
    "# Direct LazyQT conversion"
   ]
  },
  {
   "cell_type": "markdown",
   "metadata": {},
   "source": [
    "### Direct disk access"
   ]
  },
  {
   "cell_type": "code",
   "execution_count": 3,
   "metadata": {
    "collapsed": false
   },
   "outputs": [
    {
     "name": "stdout",
     "output_type": "stream",
     "text": [
      "Direct converions from local disk: 46.019578 ms per frame\n"
     ]
    },
    {
     "data": {
      "image/png": "[encoded data removed]",
      "text/plain": [
       "<matplotlib.figure.Figure at 0x111d23390>"
      ]
     },
     "metadata": {},
     "output_type": "display_data"
    }
   ],
   "source": [
    "times = test_lazyqt(\"/Users/aaron/workspace/CamHD_analysis/data\", reps=10 )\n",
    "\n",
    "process_times( times, \"Direct converions from local disk\")"
   ]
  },
  {
   "cell_type": "markdown",
   "metadata": {},
   "source": [
    "### Local HTTP server "
   ]
  },
  {
   "cell_type": "code",
   "execution_count": 4,
   "metadata": {
    "collapsed": false,
    "scrolled": false
   },
   "outputs": [
    {
     "name": "stdout",
     "output_type": "stream",
     "text": [
      "Direct conversion through local HTTP Server: 110.728631 ms per frame\n"
     ]
    },
    {
     "data": {
      "image/png": "[encoded data removed]",
      "text/plain": [
       "<matplotlib.figure.Figure at 0x10ae77908>"
      ]
     },
     "metadata": {},
     "output_type": "display_data"
    }
   ],
   "source": [
    "times = test_lazyqt(\"http://localhost:9081/\")   ## Local Nginx server as defined in the docker-compose configuration\n",
    "process_times( times, \"Direct conversion through local HTTP Server\")"
   ]
  },
  {
   "cell_type": "markdown",
   "metadata": {},
   "source": [
    "### Contacting CI directly "
   ]
  },
  {
   "cell_type": "code",
   "execution_count": null,
   "metadata": {
    "collapsed": false
   },
   "outputs": [
    {
     "name": "stdout",
     "output_type": "stream",
     "text": [
      "Direct conversion from Rutgers CI: 3590.659344 ms per frame\n"
     ]
    },
    {
     "data": {
      "image/png": "[encoded data removed]",
      "text/plain": [
       "<matplotlib.figure.Figure at 0x11ccd0ba8>"
      ]
     },
     "metadata": {},
     "output_type": "display_data"
    }
   ],
   "source": [
    "times = test_lazyqt(\"https://rawdata.oceanobservatories.org/files/\")\n",
    "process_times( times, \"Direct conversion from Rutgers CI\")"
   ]
  },
  {
   "cell_type": "markdown",
   "metadata": {},
   "source": [
    "# Local lazycache server, non-caching\n",
    "\n",
    "### Using local disk"
   ]
  },
  {
   "cell_type": "code",
   "execution_count": null,
   "metadata": {
    "collapsed": false
   },
   "outputs": [],
   "source": [
    "times = test_lazycache(\"%s/v1/berna/data/\" % local_uncached )\n",
    "\n",
    "process_times( times, \"Local Lazycache to local disk, noncached\")"
   ]
  },
  {
   "cell_type": "markdown",
   "metadata": {},
   "source": [
    "### connecting to local HTTP server"
   ]
  },
  {
   "cell_type": "code",
   "execution_count": null,
   "metadata": {
    "collapsed": false
   },
   "outputs": [],
   "source": [
    "times = test_lazycache(\"%s/v1/nginx_data/\" % local_uncached )\n",
    "\n",
    "process_times( times, \"Local Lazycache to local HTTP server, noncached\")"
   ]
  },
  {
   "cell_type": "markdown",
   "metadata": {},
   "source": [
    "### contacting CI directly"
   ]
  },
  {
   "cell_type": "code",
   "execution_count": null,
   "metadata": {
    "collapsed": false
   },
   "outputs": [],
   "source": [
    "times = test_lazycache(\"%s/v1/nginx_data/\" % local_uncached )\n",
    "\n",
    "process_times( times, \"Local Lazycache to CI, noncached\")"
   ]
  },
  {
   "cell_type": "markdown",
   "metadata": {},
   "source": [
    "# Local Lazycache server, with caching enabled\n",
    "\n",
    "### operating on local data"
   ]
  },
  {
   "cell_type": "code",
   "execution_count": null,
   "metadata": {
    "collapsed": false
   },
   "outputs": [],
   "source": [
    "test_lazycache(\"%s/v1/berna/data/\" % local_cached )\n",
    "times = test_lazycache(\"%s/v1/berna/data/\" % local_cached )\n",
    "\n",
    "process_times( times, \"Local Lazycache to local disk, cached\")"
   ]
  },
  {
   "cell_type": "markdown",
   "metadata": {},
   "source": [
    "### connecting to local Nginx server"
   ]
  },
  {
   "cell_type": "code",
   "execution_count": null,
   "metadata": {
    "collapsed": false
   },
   "outputs": [],
   "source": [
    "test_lazycache(\"%s/v1/nginx_data/\" % local_cached )\n",
    "times = test_lazycache(\"%s/v1/nginx_data/\" % local_cached )\n",
    "\n",
    "process_times( times, \"Local Lazycache to local HTTP server, cached\")"
   ]
  },
  {
   "cell_type": "markdown",
   "metadata": {},
   "source": [
    "### contacting CI directly"
   ]
  },
  {
   "cell_type": "code",
   "execution_count": null,
   "metadata": {
    "collapsed": false
   },
   "outputs": [],
   "source": [
    "test_lazycache(\"%s/v1/org/oceanobservatories/rawdata/files/\" % local_cached )\n",
    "times = test_lazycache(\"%s/v1/org/oceanobservatories/rawdata/files/\" % local_cached )\n",
    "\n",
    "process_times( times, \"Local Lazycache to CI, cached\")"
   ]
  },
  {
   "cell_type": "markdown",
   "metadata": {},
   "source": [
    "# Google App Engine instance of Lazycache\n",
    "\n",
    "## Without cache"
   ]
  },
  {
   "cell_type": "code",
   "execution_count": null,
   "metadata": {
    "collapsed": false
   },
   "outputs": [],
   "source": [
    "repo = lazycache.lazycache( 'https://camhd-app-dev-nocache.appspot.com/v1/org/oceanobservatories/rawdata/files' )\n",
    "\n",
    "## Once to warm the cache (remembering the random frame selector is deterministic)\n",
    "test_repo(repo)\n",
    "times = test_repo(repo)\n",
    "\n",
    "process_times( times, \"GAE Lazycache to CI, noncached\")"
   ]
  },
  {
   "cell_type": "markdown",
   "metadata": {},
   "source": [
    "### With cache"
   ]
  },
  {
   "cell_type": "code",
   "execution_count": null,
   "metadata": {
    "collapsed": false
   },
   "outputs": [],
   "source": [
    "repo = lazycache.lazycache()   ## Default repo\n",
    "\n",
    "times = test_repo(repo)\n",
    "\n",
    "process_times( times, \"GAE Lazycache to CI, cached\")"
   ]
  },
  {
   "cell_type": "code",
   "execution_count": null,
   "metadata": {
    "collapsed": true
   },
   "outputs": [],
   "source": []
  }
 ],
 "metadata": {
  "kernelspec": {
   "display_name": "LazyQT",
   "language": "python",
   "name": "lazyqt"
  },
  "language_info": {
   "codemirror_mode": {
    "name": "ipython",
    "version": 3
   },
   "file_extension": ".py",
   "mimetype": "text/x-python",
   "name": "python",
   "nbconvert_exporter": "python",
   "pygments_lexer": "ipython3",
   "version": "3.6.1"
  }
 },
 "nbformat": 4,
 "nbformat_minor": 2
}
