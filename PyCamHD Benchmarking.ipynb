{
 "cells": [
  {
   "cell_type": "code",
   "execution_count": 1,
   "metadata": {
    "collapsed": true
   },
   "outputs": [],
   "source": [
    "%matplotlib inline\n",
    "import numpy as np\n",
    "import matplotlib.pyplot as plt\n",
    "plt.rc('figure', figsize=(12, 12))\n",
    "\n",
    "import random\n",
    "\n",
    "import pycamhd.lazycache as lazycache\n",
    "import pycamhd.lazyqt as lazyqt\n",
    "\n",
    "## Local imports\n",
    "from timer import Timer"
   ]
  },
  {
   "cell_type": "code",
   "execution_count": 2,
   "metadata": {
    "collapsed": false
   },
   "outputs": [],
   "source": [
    "filename = '/RS03ASHS/PN03B/06-CAMHDA301/2016/07/24/CAMHDA301-20160724T030000Z.mov'\n",
    "num_frames = 10\n",
    "\n",
    "def random_frames( n_frames, max_frame = 25000 ):\n",
    "    random.seed(5)   # I want this to be _non_-random\n",
    "    return random.sample(range(1,max_frame), n_frames )\n",
    "\n",
    "\n",
    "def test_lazycache( url ):\n",
    "    repo = lazycache.lazycache(url)\n",
    "    return test_repo( repo )\n",
    "    \n",
    "def test_lazyqt( path ):\n",
    "    repo = lazyqt.repo( path )\n",
    "    return test_repo( repo )\n",
    "    \n",
    "def test_repo( repo ):\n",
    "    times = []\n",
    "    for i in random_frames(num_frames, 30):\n",
    "        with Timer() as t:\n",
    "            repo.get_frame( filename, i )\n",
    "        times.append(t)\n",
    "    \n",
    "    return times\n",
    "\n",
    "\n",
    "local_cached   = 'http://localhost:8080'\n",
    "local_uncached = \"http://localhost:9080\"\n"
   ]
  },
  {
   "cell_type": "markdown",
   "metadata": {},
   "source": [
    "# Direct LazyQT conversion"
   ]
  },
  {
   "cell_type": "markdown",
   "metadata": {},
   "source": [
    "### Direct disk access"
   ]
  },
  {
   "cell_type": "code",
   "execution_count": 3,
   "metadata": {
    "collapsed": false
   },
   "outputs": [
    {
     "name": "stdout",
     "output_type": "stream",
     "text": [
      "Local, noncached: 29.693532 ms per frame\n"
     ]
    }
   ],
   "source": [
    "times = test_lazyqt(\"/Users/aaron/workspace/CamHD_analysis/data\")\n",
    "msec = [t.msecs for t in times]\n",
    "print(\"Local, noncached: %f ms per frame\" % np.mean(msec))"
   ]
  },
  {
   "cell_type": "markdown",
   "metadata": {},
   "source": [
    "### Local HTTP server "
   ]
  },
  {
   "cell_type": "code",
   "execution_count": 4,
   "metadata": {
    "collapsed": false
   },
   "outputs": [
    {
     "name": "stdout",
     "output_type": "stream",
     "text": [
      "Local, noncached: 68.099809 ms per frame\n"
     ]
    }
   ],
   "source": [
    "times = test_lazyqt(\"http://localhost:9081/\")   ## Local Nginx server as defined in the docker-compose configuration\n",
    "msec = [t.msecs for t in times]\n",
    "print(\"Local, noncached: %f ms per frame\" % np.mean(msec))"
   ]
  },
  {
   "cell_type": "markdown",
   "metadata": {},
   "source": [
    "### Contacting CI directly "
   ]
  },
  {
   "cell_type": "code",
   "execution_count": 5,
   "metadata": {
    "collapsed": false
   },
   "outputs": [
    {
     "name": "stdout",
     "output_type": "stream",
     "text": [
      "Local, noncached: 2990.657091 ms per frame\n"
     ]
    }
   ],
   "source": [
    "times = test_lazyqt(\"https://rawdata.oceanobservatories.org/files/\")\n",
    "msec = [t.msecs for t in times]\n",
    "print(\"Local, noncached: %f ms per frame\" % np.mean(msec))"
   ]
  },
  {
   "cell_type": "markdown",
   "metadata": {},
   "source": [
    "# Local lazycache server, non-caching\n",
    "\n",
    "### Using local disk"
   ]
  },
  {
   "cell_type": "code",
   "execution_count": 7,
   "metadata": {
    "collapsed": false
   },
   "outputs": [
    {
     "name": "stdout",
     "output_type": "stream",
     "text": [
      "Local, noncached: 552.746105 ms per frame\n"
     ]
    }
   ],
   "source": [
    "times = test_lazycache(\"%s/v1/berna/data/\" % local_uncached )\n",
    "\n",
    "msec = [t.msecs for t in times]\n",
    "print(\"Local, noncached: %f ms per frame\" % np.mean(msec))"
   ]
  },
  {
   "cell_type": "markdown",
   "metadata": {},
   "source": [
    "### connecting to local HTTP server"
   ]
  },
  {
   "cell_type": "code",
   "execution_count": 8,
   "metadata": {
    "collapsed": false
   },
   "outputs": [
    {
     "name": "stdout",
     "output_type": "stream",
     "text": [
      "Nginx, noncached: 511.022305 ms per frame\n"
     ]
    }
   ],
   "source": [
    "times = test_lazycache(\"%s/v1/nginx_data/\" % local_uncached )\n",
    "\n",
    "msec = [t.msecs for t in times]\n",
    "print(\"Nginx, noncached: %f ms per frame\" % np.mean(msec))"
   ]
  },
  {
   "cell_type": "markdown",
   "metadata": {},
   "source": [
    "### contacting CI directly"
   ]
  },
  {
   "cell_type": "code",
   "execution_count": 9,
   "metadata": {
    "collapsed": false
   },
   "outputs": [
    {
     "name": "stdout",
     "output_type": "stream",
     "text": [
      "CI, noncached: 590.296125 ms per frame\n"
     ]
    }
   ],
   "source": [
    "times = test_lazycache(\"%s/v1/org/oceanobservatories/rawdata/files/\" % local_uncached )\n",
    "\n",
    "msec = [t.msecs for t in times]\n",
    "print(\"CI, noncached: %f ms per frame\" % np.mean(msec))"
   ]
  },
  {
   "cell_type": "markdown",
   "metadata": {},
   "source": [
    "# Local Lazycache server, with cacheing enabled\n",
    "\n",
    "### operating on local data"
   ]
  },
  {
   "cell_type": "code",
   "execution_count": 10,
   "metadata": {
    "collapsed": false
   },
   "outputs": [
    {
     "name": "stdout",
     "output_type": "stream",
     "text": [
      "Local, cached: 443.422079 ms per frame\n"
     ]
    }
   ],
   "source": [
    "times = test_lazycache(\"%s/v1/berna/data/\" % local_cached )\n",
    "\n",
    "msec = [t.msecs for t in times]\n",
    "print(\"Local, cached: %f ms per frame\" % np.mean(msec))"
   ]
  },
  {
   "cell_type": "markdown",
   "metadata": {},
   "source": [
    "### connecting to local Nginx server"
   ]
  },
  {
   "cell_type": "code",
   "execution_count": 11,
   "metadata": {
    "collapsed": false
   },
   "outputs": [
    {
     "name": "stdout",
     "output_type": "stream",
     "text": [
      "Nginx, cached: 482.806802 ms per frame\n"
     ]
    }
   ],
   "source": [
    "times = test_lazycache(\"%s/v1/nginx_data/\" % local_cached )\n",
    "\n",
    "msec = [t.msecs for t in times]\n",
    "print(\"Nginx, cached: %f ms per frame\" % np.mean(msec))"
   ]
  },
  {
   "cell_type": "markdown",
   "metadata": {},
   "source": [
    "### contacting CI directly"
   ]
  },
  {
   "cell_type": "code",
   "execution_count": 12,
   "metadata": {
    "collapsed": false
   },
   "outputs": [
    {
     "name": "stdout",
     "output_type": "stream",
     "text": [
      "CI, cached: 453.917098 ms per frame\n"
     ]
    }
   ],
   "source": [
    "times = test_lazycache(\"%s/v1/org/oceanobservatories/rawdata/files/\" % local_cached )\n",
    "\n",
    "msec = [t.msecs for t in times]\n",
    "print(\"CI, cached: %f ms per frame\" % np.mean(msec))"
   ]
  },
  {
   "cell_type": "markdown",
   "metadata": {},
   "source": [
    "# Google App Engine instance of Lazycache\n",
    "\n",
    "## Without cache"
   ]
  },
  {
   "cell_type": "code",
   "execution_count": 15,
   "metadata": {
    "collapsed": false
   },
   "outputs": [
    {
     "name": "stdout",
     "output_type": "stream",
     "text": [
      "GAE, no cache: 524.795985 ms per frame\n"
     ]
    }
   ],
   "source": [
    "repo = lazycache.lazycache( 'https://camhd-app-dev-nocache.appspot.com/v1/org/oceanobservatories/rawdata/files' )\n",
    "\n",
    "times = test_repo(repo)\n",
    "\n",
    "msec = [t.msecs for t in times]\n",
    "print(\"GAE, no cache: %f ms per frame\" % np.mean(msec))"
   ]
  },
  {
   "cell_type": "markdown",
   "metadata": {},
   "source": [
    "### With cache"
   ]
  },
  {
   "cell_type": "code",
   "execution_count": 16,
   "metadata": {
    "collapsed": false
   },
   "outputs": [
    {
     "name": "stdout",
     "output_type": "stream",
     "text": [
      "GAE, cached: 1457.211065 ms per frame\n"
     ]
    }
   ],
   "source": [
    "repo = lazycache.lazycache()   ## Default repo\n",
    "\n",
    "times = test_repo(repo)\n",
    "\n",
    "msec = [t.msecs for t in times]\n",
    "print(\"GAE, cached: %f ms per frame\" % np.mean(msec))"
   ]
  },
  {
   "cell_type": "code",
   "execution_count": null,
   "metadata": {
    "collapsed": true
   },
   "outputs": [],
   "source": []
  }
 ],
 "metadata": {
  "kernelspec": {
   "display_name": "LazyQT",
   "language": "python",
   "name": "lazyqt"
  },
  "language_info": {
   "codemirror_mode": {
    "name": "ipython",
    "version": 3
   },
   "file_extension": ".py",
   "mimetype": "text/x-python",
   "name": "python",
   "nbconvert_exporter": "python",
   "pygments_lexer": "ipython3",
   "version": "3.6.1"
  }
 },
 "nbformat": 4,
 "nbformat_minor": 2
}
