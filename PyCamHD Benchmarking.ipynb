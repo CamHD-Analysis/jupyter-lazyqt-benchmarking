{
 "cells": [
  {
   "cell_type": "code",
   "execution_count": 7,
   "metadata": {
    "collapsed": true
   },
   "outputs": [],
   "source": [
    "%matplotlib inline\n",
    "import numpy as np\n",
    "import matplotlib.pyplot as plt\n",
    "plt.rc('figure', figsize=(8,8))\n",
    "\n",
    "import random\n",
    "import os.path\n",
    "\n",
    "import pycamhd.lazycache as lazycache     ## For accessing data through a Lazycache instance\n",
    "import pycamhd.lazyqt as lazyqt           ## For accessing data on disk or through HTTP\n",
    "\n",
    "\n",
    "import pycamhd_accessor as accessor\n",
    "\n",
    "import json\n",
    "\n",
    "## Local imports\n",
    "from timer import Timer\n",
    "\n",
    "\n",
    "\n",
    "from dask import compute,delayed,threaded,multiprocessing"
   ]
  },
  {
   "cell_type": "code",
   "execution_count": 2,
   "metadata": {
    "collapsed": true
   },
   "outputs": [],
   "source": [
    "video_lengths = dict()"
   ]
  },
  {
   "cell_type": "code",
   "execution_count": 3,
   "metadata": {
    "collapsed": true
   },
   "outputs": [],
   "source": [
    "## Default values\n",
    "\n",
    "## These paths must exist in all locations ... the code doesn't check...\n",
    "ci_url_root = \"https://rawdata.oceanobservatories.org/files/\"\n",
    "\n",
    "paths = ['/RS03ASHS/PN03B/06-CAMHDA301/2016/01/01/CAMHDA301-20160101T000000Z.mov',\n",
    "         '/RS03ASHS/PN03B/06-CAMHDA301/2016/01/01/CAMHDA301-20160101T030000Z.mov',\n",
    "         '/RS03ASHS/PN03B/06-CAMHDA301/2016/01/01/CAMHDA301-20160101T060000Z.mov',\n",
    "         '/RS03ASHS/PN03B/06-CAMHDA301/2016/01/01/CAMHDA301-20160101T090000Z.mov',\n",
    "         '/RS03ASHS/PN03B/06-CAMHDA301/2016/01/01/CAMHDA301-20160101T120000Z.mov',\n",
    "         '/RS03ASHS/PN03B/06-CAMHDA301/2016/01/01/CAMHDA301-20160101T150000Z.mov',\n",
    "         '/RS03ASHS/PN03B/06-CAMHDA301/2016/01/01/CAMHDA301-20160101T180000Z.mov',\n",
    "         '/RS03ASHS/PN03B/06-CAMHDA301/2016/01/01/CAMHDA301-20160101T210000Z.mov'\n",
    "        ]\n",
    "local_path = \"/data\"\n",
    "\n",
    "local_cached_url   = 'http://localhost:8080/'\n",
    "local_uncached_url = 'http://localhost:9080/'\n",
    "\n",
    "local_nginx_url    = 'http://localhost:9081/'\n",
    "\n",
    "gae_uncached_url   = 'https://camhd-app-dev-nocache.appspot.com/'\n",
    "gae_cached_url   = 'https://camhd-app-dev.appspot.com/'\n",
    "\n",
    "reps = 100\n",
    "\n",
    "nthreads = [1,2,4,8]\n",
    "\n",
    "import platform\n",
    "hostname = platform.node()\n",
    "config_file = \"%s_config.json\" % hostname\n",
    "\n",
    "results_file = \"%s_results.json\" % hostname\n"
   ]
  },
  {
   "cell_type": "code",
   "execution_count": 4,
   "metadata": {},
   "outputs": [
    {
     "name": "stdout",
     "output_type": "stream",
     "text": [
      "Loading config file berna_config.json\n"
     ]
    }
   ],
   "source": [
    "## import local configuration\n",
    "if os.path.isfile(config_file):\n",
    "    print(\"Loading config file %s\" % config_file)\n",
    "    \n",
    "    with open( config_file, 'r' ) as f:\n",
    "        conf = json.load( f )\n",
    "\n",
    "        \n",
    "    if 'local_path' in conf.keys(): local_path = conf['local_path']\n",
    "    if 'reps' in conf.keys():       reps = conf['reps']"
   ]
  },
  {
   "cell_type": "code",
   "execution_count": 5,
   "metadata": {},
   "outputs": [
    {
     "name": "stdout",
     "output_type": "stream",
     "text": [
      "Configuration\n",
      "Local_path: /home/amarburg/rawdata.oceanobservatories.org/files\n",
      "Reps: 100\n"
     ]
    }
   ],
   "source": [
    "print(\"Configuration\")\n",
    "print(\"Local_path: %s\" % local_path )\n",
    "print(\"Reps: %d\" % reps )"
   ]
  },
  {
   "cell_type": "code",
   "execution_count": 6,
   "metadata": {
    "collapsed": true
   },
   "outputs": [],
   "source": [
    "\n",
    "def movie_length( movie ):\n",
    "    if movie in video_lengths.keys():\n",
    "        vid_length = video_lengths[ movie ]\n",
    "    else:\n",
    "        ## Retrieve (and cache) total number of frames in movie\n",
    "        metadata = lazyqt.get_metadata( ci_url_root + movie )\n",
    "        vid_length = metadata['num_frames']\n",
    "        video_lengths[movie] = vid_length\n",
    "    \n",
    "    return vid_length\n",
    "\n",
    "def random_frames( count, seed = -1 ):\n",
    "    if seed >= 0: \n",
    "        print(\"Setting random seed to %d\" % seed)\n",
    "        rng = random.Random(seed)\n",
    "    else:\n",
    "        rng = random.Random()\n",
    "        \n",
    "    movies = rng.choices( paths, k=count )\n",
    "    return [[m, rng.randrange( 1, movie_length(m) )] for m in movies]\n",
    "\n",
    "def test_kernel( repo, frame ):\n",
    "    with Timer() as t:\n",
    "        ## Todo.   Check quality of outcome\n",
    "        img = repo.get_frame( frame[0], frame[1] )\n",
    "        if img is None:\n",
    "            valid = False\n",
    "        else:       \n",
    "            sz = img.shape\n",
    "            if (sz[0] == 1080) and (sz[1] == 1920):\n",
    "                valid = True\n",
    "            else:\n",
    "                valid = False\n",
    "            \n",
    "    out =  {'valid': valid, 'path': frame[0], 'frame': frame[1]}\n",
    "    if valid:\n",
    "        out['msecs'] = t.msecs\n",
    "        \n",
    "    return out\n",
    "                \n",
    "def do_test_repo( repo, count, seed = -1, nthreads = 1 ):\n",
    "    if nthreads == 1:\n",
    "        results = [test_kernel( repo, frame ) for frame in random_frames( count, seed=seed )]  \n",
    "    else:\n",
    "        values = [delayed(test_kernel)( repo, frame ) for frame in random_frames( count, seed=seed )]  \n",
    "        results = compute(*values, get=threaded.get, num_workers=nthreads)\n",
    "    \n",
    "    return results\n",
    "    \n",
    "\n",
    "def plot_times( results, desc ):\n",
    "    msec = [t['msecs'] for t in results if t['valid']]\n",
    "    if len(msec) < 1: return\n",
    "    \n",
    "    print(\"%s: %f ms per frame\" % (desc,np.mean(msec)) )\n",
    "\n",
    "    plt.hist( msec, bins = 20, normed=True )\n",
    "    plt.xlabel('msec')\n",
    "    plt.ylabel('frequency')\n",
    "\n",
    "    \n",
    "def save_results( results, keys, misc = {} ):\n",
    "    if os.path.isfile(results_file):\n",
    "        with open(results_file) as f:\n",
    "            try:\n",
    "                jresults = json.load( f )\n",
    "            except json.JSONDecodeError:\n",
    "                jresults = dict()\n",
    "            \n",
    "    else:\n",
    "        jresults = dict()\n",
    "    \n",
    "    newdata = dict()\n",
    "    newdata['results'] = results\n",
    "    newdata.update(misc)  \n",
    "    \n",
    "    ## Nested keys\n",
    "    d = jresults\n",
    "    for k in keys[:-1]:\n",
    "        d = d.setdefault(k, {})\n",
    "        \n",
    "    d[keys[-1]] = newdata\n",
    "\n",
    "    \n",
    "    with open(results_file,'w') as f:\n",
    "        json.dump( jresults, f, indent=2 )\n",
    "   \n",
    "    \n",
    "\n",
    "def run_analysis( repo, keys, count, seed = -1 ):\n",
    "    for nt in nthreads:\n",
    "\n",
    "        if seed >= 0:\n",
    "            seed = seed+nt\n",
    "\n",
    "        with Timer() as t:\n",
    "            results = do_test_repo( repo, count, nthreads=nt, seed=seed )\n",
    "            \n",
    "        newkey = keys + [\"%d_threads\" % nt]\n",
    "        plot_times( results, newkey )\n",
    "        \n",
    "        print(\"Total time: %f\" % t.msecs )\n",
    "        \n",
    "        misc={'nthreads': nt, 'total_msec': t.msecs }\n",
    "        if seed >= 0: misc['seed'] = seed\n",
    "        \n",
    "        with Timer() as t:\n",
    "            save_results(results, newkey, misc ) \n",
    "        \n",
    "        print(\"%f msec to save results\" % t.msecs )"
   ]
  },
  {
   "cell_type": "markdown",
   "metadata": {},
   "source": [
    "# Native PyCamHD"
   ]
  },
  {
   "cell_type": "code",
   "execution_count": 11,
   "metadata": {},
   "outputs": [
    {
     "name": "stdout",
     "output_type": "stream",
     "text": [
      "['pycamhd', 'local_disk', '1_threads']: 50.733948 ms per frame\n",
      "Total time: 5075.433731\n",
      "119.382381 msec to save results\n",
      "['pycamhd', 'local_disk', '2_threads']: 52.910755 ms per frame\n",
      "Total time: 2693.965435\n",
      "119.213581 msec to save results\n",
      "['pycamhd', 'local_disk', '4_threads']: 72.738230 ms per frame\n",
      "Total time: 1885.934353\n",
      "124.169588 msec to save results\n",
      "['pycamhd', 'local_disk', '8_threads']: 118.039396 ms per frame\n",
      "Total time: 1530.734301\n",
      "124.191999 msec to save results\n"
     ]
    },
    {
     "data": {
      "image/png": "[encoded data removed]",
      "text/plain": [
       "<matplotlib.figure.Figure at 0x7fe8317a0b00>"
      ]
     },
     "metadata": {},
     "output_type": "display_data"
    }
   ],
   "source": [
    "run_analysis( accessor.PycamhdAccessor( local_path ), [\"pycamhd\",\"local_disk\"], count=reps)"
   ]
  },
  {
   "cell_type": "markdown",
   "metadata": {},
   "source": [
    "# Direct LazyQT conversion"
   ]
  },
  {
   "cell_type": "markdown",
   "metadata": {},
   "source": [
    "### Direct disk access"
   ]
  },
  {
   "cell_type": "code",
   "execution_count": 12,
   "metadata": {},
   "outputs": [
    {
     "name": "stdout",
     "output_type": "stream",
     "text": [
      "['lazyqt', 'local_disk', '1_threads']: 54.990089 ms per frame\n",
      "Total time: 5501.704454\n",
      "120.636463 msec to save results\n",
      "['lazyqt', 'local_disk', '2_threads']: 73.126729 ms per frame\n",
      "Total time: 5496.733665\n",
      "119.767427 msec to save results\n",
      "['lazyqt', 'local_disk', '4_threads']: 119.710262 ms per frame\n",
      "Total time: 5616.027117\n",
      "118.894339 msec to save results\n",
      "['lazyqt', 'local_disk', '8_threads']: 173.158572 ms per frame\n",
      "Total time: 5598.857880\n",
      "120.319366 msec to save results\n"
     ]
    },
    {
     "data": {
      "image/png": "[encoded data removed]",
      "text/plain": [
       "<matplotlib.figure.Figure at 0x7fe831680780>"
      ]
     },
     "metadata": {},
     "output_type": "display_data"
    }
   ],
   "source": [
    "run_analysis( lazyqt.LazyQtAccessor( local_path ), [\"lazyqt\",\"local_disk\"], count=reps)"
   ]
  },
  {
   "cell_type": "markdown",
   "metadata": {},
   "source": [
    "### Local HTTP server serving local data"
   ]
  },
  {
   "cell_type": "code",
   "execution_count": 13,
   "metadata": {
    "scrolled": false
   },
   "outputs": [
    {
     "name": "stdout",
     "output_type": "stream",
     "text": [
      "['lazyqt', 'local_nginx', '1_threads']: 61.939793 ms per frame\n",
      "Total time: 6196.569443\n",
      "157.085419 msec to save results\n",
      "['lazyqt', 'local_nginx', '2_threads']: 88.855686 ms per frame\n",
      "Total time: 6275.485754\n",
      "120.539188 msec to save results\n",
      "['lazyqt', 'local_nginx', '4_threads']: 129.920177 ms per frame\n",
      "Total time: 6310.860395\n",
      "120.252848 msec to save results\n",
      "['lazyqt', 'local_nginx', '8_threads']: 195.566554 ms per frame\n",
      "Total time: 6423.679113\n",
      "120.302439 msec to save results\n"
     ]
    },
    {
     "data": {
      "image/png": "[encoded data removed]",
      "text/plain": [
       "<matplotlib.figure.Figure at 0x7fe83038c4e0>"
      ]
     },
     "metadata": {},
     "output_type": "display_data"
    }
   ],
   "source": [
    "run_analysis( lazyqt.LazyQtAccessor( local_nginx_url ), [\"lazyqt\",\"local_nginx\"], count=reps )"
   ]
  },
  {
   "cell_type": "markdown",
   "metadata": {},
   "source": [
    "### Contacting CI directly "
   ]
  },
  {
   "cell_type": "code",
   "execution_count": 14,
   "metadata": {},
   "outputs": [
    {
     "name": "stdout",
     "output_type": "stream",
     "text": [
      "['lazyqt', 'ci', '1_threads']: 410.497613 ms per frame\n",
      "Total time: 41052.379131\n",
      "120.304823 msec to save results\n",
      "['lazyqt', 'ci', '2_threads']: 563.680232 ms per frame\n",
      "Total time: 40265.336037\n",
      "118.968010 msec to save results\n",
      "['lazyqt', 'ci', '4_threads']: 864.161031 ms per frame\n",
      "Total time: 40642.595053\n",
      "121.977806 msec to save results\n",
      "['lazyqt', 'ci', '8_threads']: 1358.261774 ms per frame\n",
      "Total time: 39922.274828\n",
      "124.043465 msec to save results\n"
     ]
    },
    {
     "data": {
      "image/png": "[encoded data removed]",
      "text/plain": [
       "<matplotlib.figure.Figure at 0x7fe8302f1b70>"
      ]
     },
     "metadata": {},
     "output_type": "display_data"
    }
   ],
   "source": [
    "run_analysis( lazyqt.LazyQtAccessor( ci_url_root ), [\"lazyqt\",\"ci\"], count=reps )"
   ]
  },
  {
   "cell_type": "markdown",
   "metadata": {},
   "source": [
    "# Local lazycache server, non-caching\n",
    "\n",
    "\n",
    "### Using local disk"
   ]
  },
  {
   "cell_type": "code",
   "execution_count": 17,
   "metadata": {
    "collapsed": true
   },
   "outputs": [],
   "source": [
    "def lazycache_berna( host ):\n",
    "    return lazycache.LazycacheAccessor(\"%s/v1/berna/srv/data/\" % host)\n",
    "\n",
    "def lazycache_nginx( host ):\n",
    "    return lazycache.LazycacheAccessor(\"%s/v1/nginx_data/\" % host)\n",
    "\n",
    "def lazycache_ci( host ):\n",
    "        return lazycache.LazycacheAccessor(\"%s/v1/org/oceanobservatories/rawdata/files/\" % host)\n",
    "    \n",
    "keys = [\"lazycache\",\"local\",\"uncached\"]"
   ]
  },
  {
   "cell_type": "code",
   "execution_count": 18,
   "metadata": {},
   "outputs": [
    {
     "name": "stdout",
     "output_type": "stream",
     "text": [
      "Setting random seed to 46695\n",
      "['lazycache', 'local', 'uncached', 'local_disk', '1_threads']: 114.497032 ms per frame\n",
      "Total time: 11557.128668\n",
      "163.578510 msec to save results\n",
      "Setting random seed to 46697\n",
      "['lazycache', 'local', 'uncached', 'local_disk', '2_threads']: 128.283587 ms per frame\n",
      "Total time: 6526.489973\n",
      "125.236511 msec to save results\n",
      "Setting random seed to 46701\n",
      "['lazycache', 'local', 'uncached', 'local_disk', '4_threads']: 170.169635 ms per frame\n",
      "Total time: 4360.537767\n",
      "125.800848 msec to save results\n",
      "Setting random seed to 46709\n",
      "['lazycache', 'local', 'uncached', 'local_disk', '8_threads']: 356.208324 ms per frame\n",
      "Total time: 4604.364872\n",
      "123.940229 msec to save results\n",
      "Setting random seed to 46695\n",
      "['lazycache', 'local', 'uncached', 'local_disk', '1_threads']: 103.750188 ms per frame\n",
      "Total time: 10487.240314\n",
      "124.630213 msec to save results\n",
      "Setting random seed to 46697\n",
      "['lazycache', 'local', 'uncached', 'local_disk', '2_threads']: 109.484379 ms per frame\n",
      "Total time: 5580.519676\n",
      "125.482321 msec to save results\n",
      "Setting random seed to 46701\n",
      "['lazycache', 'local', 'uncached', 'local_disk', '4_threads']: 165.858781 ms per frame\n",
      "Total time: 4249.508142\n",
      "124.001503 msec to save results\n",
      "Setting random seed to 46709\n",
      "['lazycache', 'local', 'uncached', 'local_disk', '8_threads']: 358.384485 ms per frame\n",
      "Total time: 4614.487648\n",
      "125.546694 msec to save results\n"
     ]
    },
    {
     "data": {
      "image/png": "[encoded data removed]",
      "text/plain": [
       "<matplotlib.figure.Figure at 0x7fe8895ab390>"
      ]
     },
     "metadata": {},
     "output_type": "display_data"
    }
   ],
   "source": [
    "\n",
    "## run this one twice to demonstrate caching isn't enabled\n",
    "\n",
    "seed = random.randint(0,65535)\n",
    "repo = lazycache_berna( local_uncached_url )\n",
    "\n",
    "run_analysis( repo, keys + [\"local_disk\"], seed = seed, count=reps  )\n",
    "run_analysis( repo, keys + [\"local_disk\"], seed = seed, count=reps  )"
   ]
  },
  {
   "cell_type": "markdown",
   "metadata": {},
   "source": [
    "### connecting to local HTTP server"
   ]
  },
  {
   "cell_type": "code",
   "execution_count": 19,
   "metadata": {},
   "outputs": [
    {
     "name": "stdout",
     "output_type": "stream",
     "text": [
      "['lazycache', 'local', 'uncached', 'local_nginx', '1_threads']: 117.371118 ms per frame\n",
      "Total time: 11847.505808\n",
      "160.935879 msec to save results\n",
      "['lazycache', 'local', 'uncached', 'local_nginx', '2_threads']: 133.917220 ms per frame\n",
      "Total time: 6788.667440\n",
      "125.204563 msec to save results\n",
      "['lazycache', 'local', 'uncached', 'local_nginx', '4_threads']: 187.438080 ms per frame\n",
      "Total time: 4786.308765\n",
      "123.828888 msec to save results\n",
      "['lazycache', 'local', 'uncached', 'local_nginx', '8_threads']: 358.916237 ms per frame\n",
      "Total time: 4608.376503\n",
      "124.814034 msec to save results\n"
     ]
    },
    {
     "data": {
      "image/png": "[encoded data removed]",
      "text/plain": [
       "<matplotlib.figure.Figure at 0x7fe83050be80>"
      ]
     },
     "metadata": {},
     "output_type": "display_data"
    }
   ],
   "source": [
    "run_analysis( lazycache_nginx( local_uncached_url ), keys + [\"local_nginx\"], count=reps  )"
   ]
  },
  {
   "cell_type": "markdown",
   "metadata": {},
   "source": [
    "### contacting CI directly"
   ]
  },
  {
   "cell_type": "code",
   "execution_count": 20,
   "metadata": {},
   "outputs": [
    {
     "name": "stdout",
     "output_type": "stream",
     "text": [
      "['lazycache', 'local', 'uncached', 'ci', '1_threads']: 251.939583 ms per frame\n",
      "Total time: 25308.362961\n",
      "124.163151 msec to save results\n",
      "['lazycache', 'local', 'uncached', 'ci', '2_threads']: 257.343154 ms per frame\n",
      "Total time: 12982.749939\n",
      "123.814344 msec to save results\n",
      "['lazycache', 'local', 'uncached', 'ci', '4_threads']: 283.267407 ms per frame\n",
      "Total time: 7239.737749\n",
      "123.084784 msec to save results\n",
      "['lazycache', 'local', 'uncached', 'ci', '8_threads']: 388.153098 ms per frame\n",
      "Total time: 5034.237146\n",
      "124.662161 msec to save results\n"
     ]
    },
    {
     "data": {
      "image/png": "[encoded data removed]",
      "text/plain": [
       "<matplotlib.figure.Figure at 0x7fe889542dd8>"
      ]
     },
     "metadata": {},
     "output_type": "display_data"
    }
   ],
   "source": [
    "run_analysis( lazycache_ci( local_uncached_url ), keys + [\"ci\"], count=reps  )"
   ]
  },
  {
   "cell_type": "markdown",
   "metadata": {},
   "source": [
    "# Local Lazycache server, with caching enabled\n"
   ]
  },
  {
   "cell_type": "code",
   "execution_count": 21,
   "metadata": {},
   "outputs": [
    {
     "name": "stdout",
     "output_type": "stream",
     "text": [
      "Setting random seed to 26157\n",
      "['lazycache', 'local', 'cached', 'local_disk', '1_threads']: 116.523402 ms per frame\n",
      "Total time: 11760.912418\n",
      "123.884439 msec to save results\n",
      "Setting random seed to 26159\n",
      "['lazycache', 'local', 'cached', 'local_disk', '2_threads']: 127.892141 ms per frame\n",
      "Total time: 6491.461039\n",
      "125.798941 msec to save results\n",
      "Setting random seed to 26163\n",
      "['lazycache', 'local', 'cached', 'local_disk', '4_threads']: 173.125522 ms per frame\n",
      "Total time: 4434.094667\n",
      "123.559713 msec to save results\n",
      "Setting random seed to 26171\n",
      "['lazycache', 'local', 'cached', 'local_disk', '8_threads']: 363.417890 ms per frame\n",
      "Total time: 4683.471203\n",
      "125.062227 msec to save results\n",
      "Setting random seed to 26157\n",
      "['lazycache', 'local', 'cached', 'local_disk', '1_threads']: 58.007898 ms per frame\n",
      "Total time: 5916.731358\n",
      "128.741741 msec to save results\n",
      "Setting random seed to 26159\n",
      "['lazycache', 'local', 'cached', 'local_disk', '2_threads']: 100.137699 ms per frame\n",
      "Total time: 5138.247728\n",
      "125.043392 msec to save results\n",
      "Setting random seed to 26163\n",
      "['lazycache', 'local', 'cached', 'local_disk', '4_threads']: 206.289725 ms per frame\n",
      "Total time: 5299.884796\n",
      "125.178814 msec to save results\n",
      "Setting random seed to 26171\n",
      "['lazycache', 'local', 'cached', 'local_disk', '8_threads']: 420.365033 ms per frame\n",
      "Total time: 5473.396301\n",
      "124.068975 msec to save results\n",
      "Setting random seed to 59669\n",
      "['lazycache', 'local', 'cached', 'local_nginx', '1_threads']: 122.995393 ms per frame\n",
      "Total time: 12421.341658\n",
      "124.395609 msec to save results\n",
      "Setting random seed to 59671\n",
      "['lazycache', 'local', 'cached', 'local_nginx', '2_threads']: 138.464193 ms per frame\n",
      "Total time: 7041.153669\n",
      "128.563166 msec to save results\n",
      "Setting random seed to 59675\n",
      "['lazycache', 'local', 'cached', 'local_nginx', '4_threads']: 190.309851 ms per frame\n",
      "Total time: 4889.769793\n",
      "123.436213 msec to save results\n",
      "Setting random seed to 59683\n",
      "['lazycache', 'local', 'cached', 'local_nginx', '8_threads']: 370.545318 ms per frame\n",
      "Total time: 4760.820866\n",
      "124.462843 msec to save results\n",
      "Setting random seed to 59669\n",
      "['lazycache', 'local', 'cached', 'local_nginx', '1_threads']: 62.835727 ms per frame\n",
      "Total time: 6401.137590\n",
      "124.549389 msec to save results\n",
      "Setting random seed to 59671\n",
      "['lazycache', 'local', 'cached', 'local_nginx', '2_threads']: 103.184631 ms per frame\n",
      "Total time: 5268.017769\n",
      "123.411655 msec to save results\n",
      "Setting random seed to 59675\n",
      "['lazycache', 'local', 'cached', 'local_nginx', '4_threads']: 216.360404 ms per frame\n",
      "Total time: 5511.313915\n",
      "124.048710 msec to save results\n",
      "Setting random seed to 59683\n",
      "['lazycache', 'local', 'cached', 'local_nginx', '8_threads']: 424.722064 ms per frame\n",
      "Total time: 5439.826727\n",
      "126.432180 msec to save results\n",
      "Setting random seed to 3275\n",
      "['lazycache', 'local', 'cached', 'ci', '1_threads']: 245.527980 ms per frame\n",
      "Total time: 24678.640127\n",
      "135.172367 msec to save results\n",
      "Setting random seed to 3277\n",
      "['lazycache', 'local', 'cached', 'ci', '2_threads']: 268.342395 ms per frame\n",
      "Total time: 13580.461740\n",
      "124.728203 msec to save results\n",
      "Setting random seed to 3281\n",
      "['lazycache', 'local', 'cached', 'ci', '4_threads']: 301.429992 ms per frame\n",
      "Total time: 7671.963930\n",
      "123.815060 msec to save results\n",
      "Setting random seed to 3289\n",
      "['lazycache', 'local', 'cached', 'ci', '8_threads']: 421.841891 ms per frame\n",
      "Total time: 5436.027527\n",
      "123.799324 msec to save results\n",
      "Setting random seed to 3275\n",
      "['lazycache', 'local', 'cached', 'ci', '1_threads']: 58.547873 ms per frame\n",
      "Total time: 5973.255634\n",
      "124.293804 msec to save results\n",
      "Setting random seed to 3277\n",
      "['lazycache', 'local', 'cached', 'ci', '2_threads']: 101.710563 ms per frame\n",
      "Total time: 5204.132318\n",
      "168.276787 msec to save results\n",
      "Setting random seed to 3281\n",
      "['lazycache', 'local', 'cached', 'ci', '4_threads']: 213.433356 ms per frame\n",
      "Total time: 5437.433243\n",
      "125.474215 msec to save results\n",
      "Setting random seed to 3289\n",
      "['lazycache', 'local', 'cached', 'ci', '8_threads']: 413.056049 ms per frame\n",
      "Total time: 5361.274004\n",
      "124.864578 msec to save results\n"
     ]
    },
    {
     "data": {
      "image/png": "[encoded data removed]",
      "text/plain": [
       "<matplotlib.figure.Figure at 0x7fe889564dd8>"
      ]
     },
     "metadata": {},
     "output_type": "display_data"
    }
   ],
   "source": [
    "keys = [\"lazycache\",\"local\",\"cached\"]\n",
    "\n",
    "seed = random.randint(0,65535)\n",
    "run_analysis( lazycache_berna( local_cached_url ), keys + [\"local_disk\"], seed = seed, count=reps )\n",
    "run_analysis( lazycache_berna( local_cached_url ), keys + [\"local_disk\"], seed = seed, count=reps )\n",
    "\n",
    "seed = random.randint(0,65535)\n",
    "run_analysis( lazycache_nginx( local_cached_url ), keys + [\"local_nginx\"], seed = seed, count=reps  )\n",
    "run_analysis( lazycache_nginx( local_cached_url ), keys + [\"local_nginx\"], seed = seed, count=reps  )\n",
    "\n",
    "seed = random.randint(0,65535)\n",
    "run_analysis( lazycache_ci( local_cached_url ), keys + [\"ci\"], seed = seed, count=reps  )\n",
    "run_analysis( lazycache_ci( local_cached_url ), keys + [\"ci\"], seed = seed, count=reps  )"
   ]
  },
  {
   "cell_type": "markdown",
   "metadata": {},
   "source": [
    "# Google App Engine instance of Lazycache\n",
    "\n",
    "## Without cache"
   ]
  },
  {
   "cell_type": "code",
   "execution_count": 23,
   "metadata": {},
   "outputs": [
    {
     "name": "stdout",
     "output_type": "stream",
     "text": [
      "Setting random seed to 37173\n",
      "['lazycache', 'gae', 'uncached', 'ci', '1_threads']: 1984.292545 ms per frame\n",
      "Total time: 198568.649769\n",
      "128.166437 msec to save results\n",
      "Setting random seed to 37175\n",
      "['lazycache', 'gae', 'uncached', 'ci', '2_threads']: 2423.733733 ms per frame\n",
      "Total time: 122124.296665\n",
      "162.740707 msec to save results\n",
      "Setting random seed to 37179\n",
      "['lazycache', 'gae', 'uncached', 'ci', '4_threads']: 4186.570470 ms per frame\n",
      "Total time: 105959.974289\n",
      "125.158787 msec to save results\n",
      "Setting random seed to 37187\n",
      "['lazycache', 'gae', 'uncached', 'ci', '8_threads']: 7919.760404 ms per frame\n",
      "Total time: 101386.106968\n",
      "125.928402 msec to save results\n",
      "Setting random seed to 37173\n",
      "['lazycache', 'gae', 'uncached', 'ci', '1_threads']: 2164.515719 ms per frame\n",
      "Total time: 216460.245848\n",
      "125.523806 msec to save results\n",
      "Setting random seed to 37175\n",
      "['lazycache', 'gae', 'uncached', 'ci', '2_threads']: 1946.511493 ms per frame\n",
      "Total time: 98330.457687\n",
      "125.186443 msec to save results\n",
      "Setting random seed to 37179\n",
      "['lazycache', 'gae', 'uncached', 'ci', '4_threads']: 2384.921927 ms per frame\n",
      "Total time: 60499.025583\n",
      "125.051498 msec to save results\n",
      "Setting random seed to 37187\n",
      "['lazycache', 'gae', 'uncached', 'ci', '8_threads']: 3274.551921 ms per frame\n",
      "Total time: 41825.938463\n",
      "125.532389 msec to save results\n"
     ]
    },
    {
     "data": {
      "image/png": "[encoded data removed]",
      "text/plain": [
       "<matplotlib.figure.Figure at 0x7fe80c2b0f60>"
      ]
     },
     "metadata": {},
     "output_type": "display_data"
    }
   ],
   "source": [
    "keys = [\"lazycache\", \"gae\", \"uncached\"]\n",
    "\n",
    "seed = random.randint(0,65535)\n",
    "run_analysis( lazycache_ci( gae_uncached_url ), keys + [\"ci\"], seed = seed, count=reps )\n",
    "run_analysis( lazycache_ci( gae_uncached_url ), keys + [\"ci\"], seed = seed, count=reps  )"
   ]
  },
  {
   "cell_type": "markdown",
   "metadata": {},
   "source": [
    "### With cache"
   ]
  },
  {
   "cell_type": "code",
   "execution_count": 22,
   "metadata": {},
   "outputs": [
    {
     "name": "stdout",
     "output_type": "stream",
     "text": [
      "Setting random seed to 51102\n",
      "['lazycache', 'gae', 'cached', 'ci', '1_threads']: 3982.602952 ms per frame\n",
      "Total time: 398268.641949\n",
      "127.576351 msec to save results\n",
      "Setting random seed to 51104\n",
      "['lazycache', 'gae', 'cached', 'ci', '2_threads']: 3190.088801 ms per frame\n",
      "Total time: 160369.630575\n",
      "125.606537 msec to save results\n",
      "Setting random seed to 51108\n",
      "['lazycache', 'gae', 'cached', 'ci', '4_threads']: 4229.039333 ms per frame\n",
      "Total time: 107529.621124\n",
      "125.923872 msec to save results\n",
      "Setting random seed to 51116\n",
      "['lazycache', 'gae', 'cached', 'ci', '8_threads']: 7839.701021 ms per frame\n",
      "Total time: 98899.915457\n",
      "126.422405 msec to save results\n",
      "Setting random seed to 51102\n",
      "['lazycache', 'gae', 'cached', 'ci', '1_threads']: 892.129242 ms per frame\n",
      "Total time: 89227.586031\n",
      "124.716759 msec to save results\n",
      "Setting random seed to 51104\n",
      "['lazycache', 'gae', 'cached', 'ci', '2_threads']: 1009.796507 ms per frame\n",
      "Total time: 50697.584867\n",
      "124.768019 msec to save results\n",
      "Setting random seed to 51108\n",
      "['lazycache', 'gae', 'cached', 'ci', '4_threads']: 1200.607901 ms per frame\n",
      "Total time: 30526.473761\n",
      "124.222517 msec to save results\n",
      "Setting random seed to 51116\n",
      "['lazycache', 'gae', 'cached', 'ci', '8_threads']: 1921.519401 ms per frame\n",
      "Total time: 25053.426981\n",
      "125.032187 msec to save results\n"
     ]
    },
    {
     "data": {
      "image/png": "[encoded data removed]",
      "text/plain": [
       "<matplotlib.figure.Figure at 0x7fe876fc6b38>"
      ]
     },
     "metadata": {},
     "output_type": "display_data"
    }
   ],
   "source": [
    "keys = [\"lazycache\", \"gae\", \"cached\"]\n",
    "\n",
    "seed = random.randint(0,65535)\n",
    "run_analysis( lazycache_ci( gae_cached_url ), keys + [\"ci\"], seed = seed, count=reps  )\n",
    "run_analysis( lazycache_ci( gae_cached_url ), keys + [\"ci\"], seed = seed, count=reps  )"
   ]
  },
  {
   "cell_type": "code",
   "execution_count": null,
   "metadata": {
    "collapsed": true
   },
   "outputs": [],
   "source": []
  }
 ],
 "metadata": {
  "kernelspec": {
   "display_name": "LazyQT Test",
   "language": "python",
   "name": "lazyqt_test"
  },
  "language_info": {
   "codemirror_mode": {
    "name": "ipython",
    "version": 3
   },
   "file_extension": ".py",
   "mimetype": "text/x-python",
   "name": "python",
   "nbconvert_exporter": "python",
   "pygments_lexer": "ipython3",
   "version": "3.6.1"
  }
 },
 "nbformat": 4,
 "nbformat_minor": 2
}
