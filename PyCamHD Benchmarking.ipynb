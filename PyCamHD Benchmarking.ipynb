{
 "cells": [
  {
   "cell_type": "code",
   "execution_count": 1,
   "metadata": {
    "collapsed": true
   },
   "outputs": [],
   "source": [
    "%matplotlib inline\n",
    "import numpy as np\n",
    "import matplotlib.pyplot as plt\n",
    "plt.rc('figure', figsize=(8,8))\n",
    "\n",
    "import random\n",
    "import os.path\n",
    "\n",
    "import pycamhd.lazycache as lazycache     ## For accessing data through a Lazycache instance\n",
    "import pycamhd.lazyqt as lazyqt           ## For accessing data on disk or through HTTP\n",
    "\n",
    "import json\n",
    "\n",
    "## Local imports\n",
    "from timer import Timer\n",
    "\n",
    "\n",
    "from dask import compute,delayed,threaded,multiprocessing"
   ]
  },
  {
   "cell_type": "code",
   "execution_count": 2,
   "metadata": {
    "collapsed": true
   },
   "outputs": [],
   "source": [
    "video_lengths = dict()"
   ]
  },
  {
   "cell_type": "code",
   "execution_count": 3,
   "metadata": {
    "collapsed": true
   },
   "outputs": [],
   "source": [
    "## Default values\n",
    "\n",
    "## These paths must exist in all locations ... the code doesn't check...\n",
    "ci_url_root = \"https://rawdata.oceanobservatories.org/files/\"\n",
    "\n",
    "paths = ['/RS03ASHS/PN03B/06-CAMHDA301/2016/01/01/CAMHDA301-20160101T000000Z.mov',\n",
    "         '/RS03ASHS/PN03B/06-CAMHDA301/2016/01/01/CAMHDA301-20160101T030000Z.mov',\n",
    "         '/RS03ASHS/PN03B/06-CAMHDA301/2016/01/01/CAMHDA301-20160101T060000Z.mov',\n",
    "         '/RS03ASHS/PN03B/06-CAMHDA301/2016/01/01/CAMHDA301-20160101T090000Z.mov',\n",
    "         '/RS03ASHS/PN03B/06-CAMHDA301/2016/01/01/CAMHDA301-20160101T120000Z.mov',\n",
    "         '/RS03ASHS/PN03B/06-CAMHDA301/2016/01/01/CAMHDA301-20160101T150000Z.mov',\n",
    "         '/RS03ASHS/PN03B/06-CAMHDA301/2016/01/01/CAMHDA301-20160101T180000Z.mov',\n",
    "         '/RS03ASHS/PN03B/06-CAMHDA301/2016/01/01/CAMHDA301-20160101T210000Z.mov'\n",
    "        ]\n",
    "local_path = \"/data\"\n",
    "\n",
    "local_cached_url   = 'http://localhost:8080/'\n",
    "local_uncached_url = 'http://localhost:9080/'\n",
    "\n",
    "local_nginx_url    = 'http://localhost:9081/'\n",
    "\n",
    "gae_uncached_url   = 'https://camhd-app-dev-nocache.appspot.com/'\n",
    "gae_cached_url   = 'https://camhd-app-dev.appspot.com/'\n",
    "\n",
    "reps = 100\n",
    "\n",
    "nthreads = [1,2,4,8]\n",
    "\n",
    "import platform\n",
    "hostname = platform.node()\n",
    "config_file = \"%s_config.json\" % hostname\n",
    "\n",
    "results_file = \"%s_results.json\" % hostname\n"
   ]
  },
  {
   "cell_type": "code",
   "execution_count": 4,
   "metadata": {},
   "outputs": [
    {
     "name": "stdout",
     "output_type": "stream",
     "text": [
      "Loading config file ursine_config.json\n"
     ]
    }
   ],
   "source": [
    "## import local configuration\n",
    "if os.path.isfile(config_file):\n",
    "    print(\"Loading config file %s\" % config_file)\n",
    "    \n",
    "    with open( config_file, 'r' ) as f:\n",
    "        conf = json.load( f )\n",
    "\n",
    "        \n",
    "    if 'local_path' in conf.keys(): local_path = conf['local_path']\n",
    "    if 'reps' in conf.keys():       reps = conf['reps']"
   ]
  },
  {
   "cell_type": "code",
   "execution_count": 5,
   "metadata": {},
   "outputs": [
    {
     "name": "stdout",
     "output_type": "stream",
     "text": [
      "Configuration\n",
      "Local_path: /home/aaron/canine/workspace/camhd_analysis/rawdata_mirror/rawdata.oceanobservatories.org/files\n",
      "Reps: 100\n"
     ]
    }
   ],
   "source": [
    "print(\"Configuration\")\n",
    "print(\"Local_path: %s\" % local_path )\n",
    "print(\"Reps: %d\" % reps )"
   ]
  },
  {
   "cell_type": "code",
   "execution_count": 9,
   "metadata": {},
   "outputs": [],
   "source": [
    "\n",
    "def movie_length( movie ):\n",
    "    if movie in video_lengths.keys():\n",
    "        vid_length = video_lengths[ movie ]\n",
    "    else:\n",
    "        ## Retrieve (and cache) total number of frames in movie\n",
    "        print(\"need to query %s\" % movie )\n",
    "        metadata = lazyqt.get_metadata( ci_url_root + movie )\n",
    "        vid_length = metadata['num_frames']\n",
    "        video_lengths[movie] = vid_length\n",
    "    \n",
    "    return vid_length\n",
    "\n",
    "def random_frames( count, seed = -1 ):\n",
    "    if seed >= 0: \n",
    "        print(\"Setting random seed to %d\" % seed)\n",
    "        rng = random.Random(seed)\n",
    "    else:\n",
    "        rng = random.Random()\n",
    "        \n",
    "    movies = rng.choices( paths, k=count )\n",
    "    return [[m, rng.randrange( 1, movie_length(m) )] for m in movies]\n",
    "\n",
    "def test_kernel( repo, frame ):\n",
    "    with Timer() as t:\n",
    "        ## Todo.   Check quality of outcome\n",
    "        img = repo.get_frame( frame[0], frame[1] )\n",
    "        if img is None:\n",
    "            valid = False\n",
    "        else:       \n",
    "            sz = img.shape\n",
    "            if (sz[0] == 1080) and (sz[1] == 1920):\n",
    "                valid = True\n",
    "            else:\n",
    "                valid = False\n",
    "            \n",
    "    out =  {'valid': valid, 'path': frame[0], 'frame': frame[1]}\n",
    "    if valid:\n",
    "        out['msecs'] = t.msecs\n",
    "        \n",
    "    return out\n",
    "                \n",
    "def do_test_repo( repo, count, seed = -1, nthreads = 1 ):\n",
    "    if nthreads == 1:\n",
    "        results = [test_kernel( repo, frame ) for frame in random_frames( count, seed=seed )]  \n",
    "    else:\n",
    "        values = [delayed(test_kernel)( repo, frame ) for frame in random_frames( count, seed=seed )]  \n",
    "        results = compute(*values, get=threaded.get, num_workers=nthreads)\n",
    "    \n",
    "    return results\n",
    "    \n",
    "\n",
    "def plot_times( results, desc ):\n",
    "    msec = [t['msecs'] for t in results if t['valid']]\n",
    "    if len(msec) < 1: return\n",
    "    \n",
    "    print(\"%s: %f ms per frame\" % (desc,np.mean(msec)) )\n",
    "\n",
    "    plt.hist( msec, bins = 20, normed=True )\n",
    "    plt.xlabel('msec')\n",
    "    plt.ylabel('frequency')\n",
    "\n",
    "    \n",
    "def save_results( results, keys, misc = {} ):\n",
    "    if os.path.isfile(results_file):\n",
    "        with open(results_file) as f:\n",
    "            try:\n",
    "                jresults = json.load( f )\n",
    "            except json.JSONDecodeError:\n",
    "                jresults = dict()\n",
    "            \n",
    "    else:\n",
    "        jresults = dict()\n",
    "    \n",
    "    newdata = dict()\n",
    "    newdata['results'] = results\n",
    "    newdata.update(misc)  \n",
    "    \n",
    "    ## Nested keys\n",
    "    d = jresults\n",
    "    for k in keys[:-1]:\n",
    "        d = d.setdefault(k, {})\n",
    "        \n",
    "    d[keys[-1]] = newdata\n",
    "\n",
    "    \n",
    "    with open(results_file,'w') as f:\n",
    "        json.dump( jresults, f, indent=2 )\n",
    "   \n",
    "    \n",
    "\n",
    "def run_analysis( repo, keys, count, seed = -1 ):\n",
    "    for nt in nthreads:\n",
    "\n",
    "        if seed >= 0:\n",
    "            seed = seed+nt\n",
    "\n",
    "        with Timer() as t:\n",
    "            results = do_test_repo( repo, count, nthreads=nt, seed=seed )\n",
    "            \n",
    "        newkey = keys + [\"%d_threads\" % nt]\n",
    "        plot_times( results, newkey )\n",
    "        \n",
    "        print(\"Total time: %f\" % t.msecs )\n",
    "        \n",
    "        misc={'nthreads': nt, 'total_msec': t.msecs }\n",
    "        if seed >= 0: misc['seed'] = seed\n",
    "        \n",
    "        with Timer() as t:\n",
    "            save_results(results, newkey, misc ) \n",
    "        \n",
    "        print(\"%f msec to save results\" % t.msecs )"
   ]
  },
  {
   "cell_type": "markdown",
   "metadata": {},
   "source": [
    "# Direct LazyQT conversion"
   ]
  },
  {
   "cell_type": "markdown",
   "metadata": {},
   "source": [
    "### Direct disk access"
   ]
  },
  {
   "cell_type": "code",
   "execution_count": null,
   "metadata": {},
   "outputs": [],
   "source": [
    "run_analysis( lazyqt.LazyQtAccessor( local_path ), [\"lazyqt\",\"local_disk\"], count=reps)"
   ]
  },
  {
   "cell_type": "markdown",
   "metadata": {},
   "source": [
    "### Local HTTP server serving local data"
   ]
  },
  {
   "cell_type": "code",
   "execution_count": null,
   "metadata": {
    "scrolled": false
   },
   "outputs": [],
   "source": [
    "run_analysis( lazyqt.LazyQtAccessor( local_nginx_url ), [\"lazyqt\",\"local_nginx\"], count=reps )"
   ]
  },
  {
   "cell_type": "markdown",
   "metadata": {},
   "source": [
    "### Contacting CI directly "
   ]
  },
  {
   "cell_type": "code",
   "execution_count": null,
   "metadata": {},
   "outputs": [],
   "source": [
    "run_analysis( lazyqt.LazyQtAccessor( ci_url_root ), [\"lazyqt\",\"ci\"], count=reps )"
   ]
  },
  {
   "cell_type": "markdown",
   "metadata": {},
   "source": [
    "# Local lazycache server, non-caching\n",
    "\n",
    "\n",
    "### Using local disk"
   ]
  },
  {
   "cell_type": "code",
   "execution_count": null,
   "metadata": {
    "collapsed": true
   },
   "outputs": [],
   "source": [
    "def lazycache_berna( host ):\n",
    "    return lazycache.LazycacheAccessor(\"%s/v1/berna/data/\" % host)\n",
    "\n",
    "def lazycache_nginx( host ):\n",
    "    return lazycache.LazycacheAccessor(\"%s/v1/nginx_data/\" % host)\n",
    "\n",
    "def lazycache_ci( host ):\n",
    "        return lazycache.LazycacheAccessor(\"%s/v1/org/oceanobservatories/rawdata/files/\" % host)\n",
    "    \n",
    "keys = [\"lazycache\",\"local\",\"uncached\"]"
   ]
  },
  {
   "cell_type": "code",
   "execution_count": null,
   "metadata": {},
   "outputs": [],
   "source": [
    "\n",
    "## run this one twice to demonstrate caching isn't enabled\n",
    "\n",
    "seed = random.randint(0,65535)\n",
    "repo = lazycache_berna( local_uncached_url )\n",
    "\n",
    "run_analysis( repo, keys + [\"local_disk\"], seed = seed, count=reps  )\n",
    "run_analysis( repo, keys + [\"local_disk\"], seed = seed, count=reps  )"
   ]
  },
  {
   "cell_type": "markdown",
   "metadata": {},
   "source": [
    "### connecting to local HTTP server"
   ]
  },
  {
   "cell_type": "code",
   "execution_count": null,
   "metadata": {},
   "outputs": [],
   "source": [
    "run_analysis( lazycache_nginx( local_uncached_url ), keys + [\"local_nginx\"], count=reps  )"
   ]
  },
  {
   "cell_type": "markdown",
   "metadata": {},
   "source": [
    "### contacting CI directly"
   ]
  },
  {
   "cell_type": "code",
   "execution_count": null,
   "metadata": {},
   "outputs": [],
   "source": [
    "run_analysis( lazycache_ci( local_uncached_url ), keys + [\"ci\"], count=reps  )"
   ]
  },
  {
   "cell_type": "markdown",
   "metadata": {},
   "source": [
    "# Local Lazycache server, with caching enabled\n"
   ]
  },
  {
   "cell_type": "code",
   "execution_count": null,
   "metadata": {},
   "outputs": [],
   "source": [
    "keys = [\"lazycache\",\"local\",\"cached\"]\n",
    "\n",
    "seed = random.randint(0,65535)\n",
    "run_analysis( lazycache_berna( local_cached_url ), keys + [\"local_disk\"], seed = seed, count=reps )\n",
    "run_analysis( lazycache_berna( local_cached_url ), keys + [\"local_disk\"], seed = seed, count=reps )\n",
    "\n",
    "seed = random.randint(0,65535)\n",
    "run_analysis( lazycache_nginx( local_cached_url ), keys + [\"local_nginx\"], seed = seed, count=reps  )\n",
    "run_analysis( lazycache_nginx( local_cached_url ), keys + [\"local_nginx\"], seed = seed, count=reps  )\n",
    "\n",
    "seed = random.randint(0,65535)\n",
    "run_analysis( lazycache_ci( local_cached_url ), keys + [\"ci\"], seed = seed, count=reps  )\n",
    "run_analysis( lazycache_ci( local_cached_url ), keys + [\"ci\"], seed = seed, count=reps  )"
   ]
  },
  {
   "cell_type": "markdown",
   "metadata": {},
   "source": [
    "# Google App Engine instance of Lazycache\n",
    "\n",
    "## Without cache"
   ]
  },
  {
   "cell_type": "code",
   "execution_count": null,
   "metadata": {},
   "outputs": [],
   "source": [
    "keys = [\"lazycache\", \"gae\", \"uncached\"]\n",
    "\n",
    "seed = random.randint(0,65535)\n",
    "run_analysis( lazycache_ci( gae_uncached_url ), keys + [\"ci\"], seed = seed, count=reps )\n",
    "run_analysis( lazycache_ci( gae_uncached_url ), keys + [\"ci\"], seed = seed, count=reps  )"
   ]
  },
  {
   "cell_type": "markdown",
   "metadata": {},
   "source": [
    "### With cache"
   ]
  },
  {
   "cell_type": "code",
   "execution_count": null,
   "metadata": {},
   "outputs": [],
   "source": [
    "keys = [\"lazycache\", \"gae\", \"cached\"]\n",
    "\n",
    "seed = random.randint(0,65535)\n",
    "run_analysis( lazycache_ci( gae_cached_url ), keys + [\"ci\"], seed = seed, count=reps  )\n",
    "run_analysis( lazycache_ci( gae_cached_url ), keys + [\"ci\"], seed = seed, count=reps  )"
   ]
  },
  {
   "cell_type": "code",
   "execution_count": null,
   "metadata": {
    "collapsed": true
   },
   "outputs": [],
   "source": []
  }
 ],
 "metadata": {
  "kernelspec": {
   "display_name": "LazyQT Test",
   "language": "python",
   "name": "lazyqt_test"
  },
  "language_info": {
   "codemirror_mode": {
    "name": "ipython",
    "version": 3
   },
   "file_extension": ".py",
   "mimetype": "text/x-python",
   "name": "python",
   "nbconvert_exporter": "python",
   "pygments_lexer": "ipython3",
   "version": "3.6.1"
  }
 },
 "nbformat": 4,
 "nbformat_minor": 2
}
