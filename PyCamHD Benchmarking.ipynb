{
 "cells": [
  {
   "cell_type": "code",
   "execution_count": 1,
   "metadata": {},
   "outputs": [],
   "source": [
    "%matplotlib inline\n",
    "import numpy as np\n",
    "import matplotlib.pyplot as plt\n",
    "plt.rc('figure', figsize=(8,8))\n",
    "\n",
    "import random\n",
    "import os.path\n",
    "\n",
    "import pycamhd.lazycache as lazycache     ## For accessing data through a Lazycache instance\n",
    "import pycamhd.lazyqt as lazyqt           ## For accessing data on disk or through HTTP\n",
    "\n",
    "import json\n",
    "\n",
    "## Local imports\n",
    "from timer import Timer\n",
    "\n",
    "\n",
    "from dask import compute,delayed,threaded"
   ]
  },
  {
   "cell_type": "code",
   "execution_count": 2,
   "metadata": {
    "collapsed": true
   },
   "outputs": [],
   "source": [
    "## Default values\n",
    "\n",
    "## These paths must exist in all locations ... the code doesn't check...\n",
    "ci_url_root = \"https://rawdata.oceanobservatories.org/files/\"\n",
    "\n",
    "paths = ['/RS03ASHS/PN03B/06-CAMHDA301/2016/01/01/CAMHDA301-20160101T000000Z.mov',\n",
    "         '/RS03ASHS/PN03B/06-CAMHDA301/2016/01/01/CAMHDA301-20160101T030000Z.mov',\n",
    "         '/RS03ASHS/PN03B/06-CAMHDA301/2016/01/01/CAMHDA301-20160101T060000Z.mov',\n",
    "         '/RS03ASHS/PN03B/06-CAMHDA301/2016/01/01/CAMHDA301-20160101T090000Z.mov',\n",
    "         '/RS03ASHS/PN03B/06-CAMHDA301/2016/01/01/CAMHDA301-20160101T120000Z.mov'\n",
    "        ]\n",
    "local_path = \"/data\"\n",
    "\n",
    "local_cached_url   = 'http://localhost:8080/'\n",
    "local_uncached_url = 'http://localhost:9080/'\n",
    "\n",
    "local_nginx_url    = 'http://localhost:9081/'\n",
    "\n",
    "gae_uncached_url   = 'https://camhd-app-dev-nocache.appspot.com/'\n",
    "gae_cached_url   = 'https://camhd-app-dev.appspot.com/'\n",
    "\n",
    "DEFAULT_REPS = 100\n",
    "\n",
    "nthreads = [1,2,4,8]\n",
    "\n",
    "import platform\n",
    "hostname = platform.node()\n",
    "config_file = \"%s_config.json\" % hostname\n",
    "\n",
    "results_file = \"%s_results.json\" % hostname\n"
   ]
  },
  {
   "cell_type": "code",
   "execution_count": 3,
   "metadata": {},
   "outputs": [
    {
     "name": "stdout",
     "output_type": "stream",
     "text": [
      "Loading config file ursine_config.json\n"
     ]
    }
   ],
   "source": [
    "## import local configuration\n",
    "if os.path.isfile(config_file):\n",
    "    print(\"Loading config file %s\" % config_file)\n",
    "    \n",
    "    with open( config_file, 'r' ) as f:\n",
    "        conf = json.load( f )\n",
    "\n",
    "        \n",
    "    if 'local_path' in conf.keys(): local_path = conf['local_path']\n",
    "    if 'default_reps' in conf.keys():       DEFAULT_REPS = conf['default_reps']"
   ]
  },
  {
   "cell_type": "code",
   "execution_count": 4,
   "metadata": {},
   "outputs": [
    {
     "name": "stdout",
     "output_type": "stream",
     "text": [
      "Configuration\n",
      "Local_path: /home/aaron/canine/workspace/camhd_analysis/rawdata_mirror/rawdata.oceanobservatories.org/files\n",
      "Reps: 2\n"
     ]
    }
   ],
   "source": [
    "print(\"Configuration\")\n",
    "print(\"Local_path: %s\" % local_path )\n",
    "print(\"Reps: %d\" % DEFAULT_REPS )"
   ]
  },
  {
   "cell_type": "code",
   "execution_count": 33,
   "metadata": {},
   "outputs": [],
   "source": [
    "video_lengths = dict()\n",
    "\n",
    "def draw_frame( rng ):\n",
    "    movie = rng.sample( paths, 1 )[0]\n",
    "    \n",
    "    if movie in video_lengths.keys():\n",
    "        vid_length = video_lengths[ movie ]\n",
    "    else:\n",
    "        ## Check length \n",
    "        metadata = lazyqt.get_metadata( ci_url_root + movie )\n",
    "        vid_length = metadata['num_frames']\n",
    "        video_lengths[movie] = vid_length\n",
    "    \n",
    "    return [movie, rng.randrange( 1, vid_length )]\n",
    "            \n",
    "def random_frames( count, seed = -1 ):\n",
    "    if seed >= 0: \n",
    "        #print(\"Setting random seed to %d\" % seed)\n",
    "        rng = random.Random(seed)\n",
    "    else:\n",
    "        rng = random.Random()\n",
    "        \n",
    "    return [ draw_frame(rng) for i in range(count) ]\n",
    "\n",
    "def test_kernel( repo, frame ):\n",
    "    with Timer() as t:\n",
    "        ## Todo.   Check quality of outcome\n",
    "        img = repo.get_frame( frame[0], frame[1] )\n",
    "        if img is None:\n",
    "            valid = False\n",
    "        else:       \n",
    "            sz = img.shape\n",
    "            if (sz[0] == 1080) and (sz[1] == 1920):\n",
    "                valid = True\n",
    "            else:\n",
    "                valid = False\n",
    "            \n",
    "    out =  {'valid': valid, 'path': frame[0], 'frame': frame[1]}\n",
    "    if valid:\n",
    "        out['msecs'] = t.msecs\n",
    "        \n",
    "    return out\n",
    "                \n",
    "def do_test_repo( repo, count = DEFAULT_REPS, seed = -1, nthreads = 1 ):\n",
    "    if nthreads == 1:\n",
    "        results = [test_kernel( repo, frame ) for frame in random_frames( count, seed=seed )]  \n",
    "    else:\n",
    "        values = [delayed(test_kernel)( repo, frame ) for frame in random_frames( count, seed=seed )]  \n",
    "        results = compute(*values, get=threaded.get)\n",
    "    \n",
    "    return results\n",
    "    \n",
    "\n",
    "def plot_times( results, desc ):\n",
    "    msec = [t['msecs'] for t in results if t['valid']]\n",
    "    if len(msec) < 1: return\n",
    "    \n",
    "    print(\"%s: %f ms per frame\" % (desc,np.mean(msec)) )\n",
    "\n",
    "    plt.hist( msec, bins = 20, normed=True )\n",
    "    plt.xlabel('msec')\n",
    "    plt.ylabel('frequency')\n",
    "\n",
    "    \n",
    "def save_results( results, keys, misc = {} ):\n",
    "    if os.path.isfile(results_file):\n",
    "        with open(results_file) as f:\n",
    "            try:\n",
    "                jresults = json.load( f )\n",
    "            except json.JSONDecodeError:\n",
    "                jresults = dict()\n",
    "            \n",
    "    else:\n",
    "        jresults = dict()\n",
    "    \n",
    "    newdata = dict()\n",
    "    newdata['results'] = results\n",
    "    newdata.update(misc)  \n",
    "    \n",
    "    ## Nested keys\n",
    "    d = jresults\n",
    "    for k in keys[:-1]:\n",
    "        d = d.setdefault(k, {})\n",
    "        \n",
    "    d[keys[-1]] = newdata\n",
    "\n",
    "    \n",
    "    with open(results_file,'w') as f:\n",
    "        json.dump( jresults, f, indent=2 )\n",
    "   \n",
    "    \n",
    "\n",
    "def run_analysis( repo, keys, seed = -1 ):\n",
    "    for nt in nthreads:\n",
    "        if seed >= 0:\n",
    "            seed = seed+nt\n",
    "\n",
    "        results = do_test_repo( repo, nthreads=nt, seed=seed )\n",
    "\n",
    "        newkey = keys + [\"%d_threads\" % nt]\n",
    "        plot_times( results, newkey )\n",
    "        \n",
    "        misc={'nthreads': nt}\n",
    "        if seed >= 0: misc['seed'] = seed\n",
    "        \n",
    "        save_results(results, newkey, misc ) "
   ]
  },
  {
   "cell_type": "markdown",
   "metadata": {},
   "source": [
    "# Direct LazyQT conversion"
   ]
  },
  {
   "cell_type": "markdown",
   "metadata": {},
   "source": [
    "### Direct disk access"
   ]
  },
  {
   "cell_type": "code",
   "execution_count": 26,
   "metadata": {},
   "outputs": [
    {
     "name": "stdout",
     "output_type": "stream",
     "text": [
      "1997\n",
      "23736\n",
      "['lazyqt', 'local_disk', '1_threads']: 140.358806 ms per frame\n",
      "241722282\n",
      "\n",
      "['lazyqt', 'local_disk', '2_threads']: 797.010660 ms per frame\n",
      "197321763\n",
      "['lazyqt', 'local_disk', '4_threads']: 107.574940 ms per frame\n",
      "\n",
      "220738140\n",
      "\n",
      "['lazyqt', 'local_disk', '8_threads']: 149.219871 ms per frame\n"
     ]
    },
    {
     "data": {
      "image/png": "[encoded data removed]",
      "text/plain": [
       "<matplotlib.figure.Figure at 0x7fc83019d320>"
      ]
     },
     "metadata": {},
     "output_type": "display_data"
    }
   ],
   "source": [
    "run_analysis( lazyqt.LazyQtAccessor( local_path ), [\"lazyqt\",\"local_disk\"])"
   ]
  },
  {
   "cell_type": "markdown",
   "metadata": {},
   "source": [
    "### Local HTTP server serving local data"
   ]
  },
  {
   "cell_type": "code",
   "execution_count": 7,
   "metadata": {
    "scrolled": false
   },
   "outputs": [
    {
     "name": "stdout",
     "output_type": "stream",
     "text": [
      "['lazyqt', 'local_nginx', '1_threads']: 168.036222 ms per frame\n",
      "['lazyqt', 'local_nginx', '2_threads']: 379.834890 ms per frame\n",
      "['lazyqt', 'local_nginx', '4_threads']: 572.643757 ms per frame\n",
      "['lazyqt', 'local_nginx', '8_threads']: 186.953187 ms per frame\n"
     ]
    },
    {
     "data": {
      "image/png": "[encoded data removed]",
      "text/plain": [
       "<matplotlib.figure.Figure at 0x7fc8304faa20>"
      ]
     },
     "metadata": {},
     "output_type": "display_data"
    }
   ],
   "source": [
    "run_analysis( lazyqt.LazyQtAccessor( local_nginx_url ), [\"lazyqt\",\"local_nginx\"] )"
   ]
  },
  {
   "cell_type": "markdown",
   "metadata": {},
   "source": [
    "### Contacting CI directly "
   ]
  },
  {
   "cell_type": "code",
   "execution_count": 8,
   "metadata": {},
   "outputs": [
    {
     "name": "stdout",
     "output_type": "stream",
     "text": [
      "['lazyqt', 'ci', '1_threads']: 3436.890841 ms per frame\n",
      "['lazyqt', 'ci', '2_threads']: 5128.991842 ms per frame\n",
      "['lazyqt', 'ci', '4_threads']: 5085.788012 ms per frame\n",
      "['lazyqt', 'ci', '8_threads']: 5143.245220 ms per frame\n"
     ]
    },
    {
     "data": {
      "image/png": "[encoded data removed]",
      "text/plain": [
       "<matplotlib.figure.Figure at 0x7fc8302d9240>"
      ]
     },
     "metadata": {},
     "output_type": "display_data"
    }
   ],
   "source": [
    "run_analysis( lazyqt.LazyQtAccessor( ci_url_root ), [\"lazyqt\",\"ci\"] )"
   ]
  },
  {
   "cell_type": "markdown",
   "metadata": {},
   "source": [
    "# Local lazycache server, non-caching\n",
    "\n",
    "\n",
    "### Using local disk"
   ]
  },
  {
   "cell_type": "code",
   "execution_count": 9,
   "metadata": {
    "collapsed": true
   },
   "outputs": [],
   "source": [
    "def lazycache_berna( host ):\n",
    "    return lazycache.LazycacheAccessor(\"%s/v1/berna/data/\" % host)\n",
    "\n",
    "def lazycache_nginx( host ):\n",
    "    return lazycache.LazycacheAccessor(\"%s/v1/nginx_data/\" % host)\n",
    "\n",
    "def lazycache_ci( host ):\n",
    "        return lazycache.LazycacheAccessor(\"%s/v1/org/oceanobservatories/rawdata/files/\" % host)\n",
    "    \n",
    "keys = [\"lazycache\",\"local\",\"uncached\"]"
   ]
  },
  {
   "cell_type": "code",
   "execution_count": 34,
   "metadata": {},
   "outputs": [
    {
     "name": "stdout",
     "output_type": "stream",
     "text": [
      "['lazycache', 'local', 'cached', 'local_disk', '1_threads']: 1255.761147 ms per frame\n",
      "['lazycache', 'local', 'cached', 'local_disk', '2_threads']: 1312.101007 ms per frame\n",
      "['lazycache', 'local', 'cached', 'local_disk', '4_threads']: 257.022858 ms per frame\n",
      "['lazycache', 'local', 'cached', 'local_disk', '8_threads']: 1309.435248 ms per frame\n",
      "['lazycache', 'local', 'cached', 'local_disk', '1_threads']: 1442.100525 ms per frame\n",
      "['lazycache', 'local', 'cached', 'local_disk', '2_threads']: 1345.875025 ms per frame\n",
      "['lazycache', 'local', 'cached', 'local_disk', '4_threads']: 283.860207 ms per frame\n",
      "['lazycache', 'local', 'cached', 'local_disk', '8_threads']: 1160.774112 ms per frame\n"
     ]
    },
    {
     "data": {
      "image/png": "[encoded data removed]",
      "text/plain": [
       "<matplotlib.figure.Figure at 0x7fc830470dd8>"
      ]
     },
     "metadata": {},
     "output_type": "display_data"
    }
   ],
   "source": [
    "\n",
    "## run this one twice to demonstrate caching isn't enabled\n",
    "\n",
    "seed = random.randint(0,65535)\n",
    "\n",
    "run_analysis( lazycache_berna( local_uncached_url ), keys + [\"local_disk\"], seed = seed  )\n",
    "run_analysis( lazycache_berna( local_uncached_url ), keys + [\"local_disk\"], seed = seed  )"
   ]
  },
  {
   "cell_type": "markdown",
   "metadata": {},
   "source": [
    "### connecting to local HTTP server"
   ]
  },
  {
   "cell_type": "code",
   "execution_count": 16,
   "metadata": {},
   "outputs": [
    {
     "name": "stdout",
     "output_type": "stream",
     "text": [
      "['lazycache', 'local', 'cached', 'local_nginx', '1_threads']: 1450.509548 ms per frame\n",
      "['lazycache', 'local', 'cached', 'local_nginx', '2_threads']: 1210.989952 ms per frame\n",
      "['lazycache', 'local', 'cached', 'local_nginx', '8_threads']: 1289.855480 ms per frame\n"
     ]
    },
    {
     "data": {
      "image/png": "[encoded data removed]",
      "text/plain": [
       "<matplotlib.figure.Figure at 0x7fc830424b38>"
      ]
     },
     "metadata": {},
     "output_type": "display_data"
    }
   ],
   "source": [
    "run_analysis( lazycache_nginx( local_uncached_url ), keys + [\"local_nginx\"]  )"
   ]
  },
  {
   "cell_type": "markdown",
   "metadata": {},
   "source": [
    "### contacting CI directly"
   ]
  },
  {
   "cell_type": "code",
   "execution_count": 17,
   "metadata": {},
   "outputs": [
    {
     "name": "stdout",
     "output_type": "stream",
     "text": [
      "['lazycache', 'local', 'cached', 'ci', '1_threads']: 2126.884818 ms per frame\n",
      "['lazycache', 'local', 'cached', 'ci', '2_threads']: 2226.188064 ms per frame\n",
      "['lazycache', 'local', 'cached', 'ci', '4_threads']: 2062.732100 ms per frame\n",
      "['lazycache', 'local', 'cached', 'ci', '8_threads']: 2103.678346 ms per frame\n"
     ]
    },
    {
     "data": {
      "image/png": "[encoded data removed]",
      "text/plain": [
       "<matplotlib.figure.Figure at 0x7fc814517a90>"
      ]
     },
     "metadata": {},
     "output_type": "display_data"
    }
   ],
   "source": [
    "run_analysis( lazycache_ci( local_uncached_url ), keys + [\"ci\"]  )"
   ]
  },
  {
   "cell_type": "markdown",
   "metadata": {},
   "source": [
    "# Local Lazycache server, with caching enabled\n"
   ]
  },
  {
   "cell_type": "code",
   "execution_count": 35,
   "metadata": {},
   "outputs": [
    {
     "name": "stdout",
     "output_type": "stream",
     "text": [
      "['lazycache', 'local', 'cached', 'local_disk', '1_threads']: 1482.074261 ms per frame\n",
      "['lazycache', 'local', 'cached', 'local_disk', '2_threads']: 2076.911569 ms per frame\n",
      "['lazycache', 'local', 'cached', 'local_disk', '4_threads']: 1260.611176 ms per frame\n",
      "['lazycache', 'local', 'cached', 'local_disk', '8_threads']: 1872.932434 ms per frame\n",
      "['lazycache', 'local', 'cached', 'local_disk', '1_threads']: 1115.862131 ms per frame\n",
      "['lazycache', 'local', 'cached', 'local_disk', '2_threads']: 979.294777 ms per frame\n",
      "['lazycache', 'local', 'cached', 'local_disk', '4_threads']: 1053.139329 ms per frame\n",
      "['lazycache', 'local', 'cached', 'local_disk', '8_threads']: 1182.187438 ms per frame\n",
      "['lazycache', 'local', 'cached', 'local_nginx', '1_threads']: 1158.222556 ms per frame\n",
      "['lazycache', 'local', 'cached', 'local_nginx', '2_threads']: 1430.216193 ms per frame\n",
      "['lazycache', 'local', 'cached', 'local_nginx', '4_threads']: 768.770218 ms per frame\n",
      "['lazycache', 'local', 'cached', 'local_nginx', '8_threads']: 1266.578913 ms per frame\n",
      "['lazycache', 'local', 'cached', 'local_nginx', '1_threads']: 1072.305083 ms per frame\n",
      "['lazycache', 'local', 'cached', 'local_nginx', '2_threads']: 1089.613795 ms per frame\n",
      "['lazycache', 'local', 'cached', 'local_nginx', '4_threads']: 610.445619 ms per frame\n",
      "['lazycache', 'local', 'cached', 'local_nginx', '8_threads']: 1105.891347 ms per frame\n",
      "['lazycache', 'local', 'cached', 'ci', '1_threads']: 3635.669470 ms per frame\n",
      "['lazycache', 'local', 'cached', 'ci', '2_threads']: 3695.105433 ms per frame\n",
      "['lazycache', 'local', 'cached', 'ci', '4_threads']: 2583.643913 ms per frame\n",
      "['lazycache', 'local', 'cached', 'ci', '8_threads']: 3663.461447 ms per frame\n",
      "['lazycache', 'local', 'cached', 'ci', '1_threads']: 1050.041437 ms per frame\n",
      "['lazycache', 'local', 'cached', 'ci', '2_threads']: 1143.101215 ms per frame\n",
      "['lazycache', 'local', 'cached', 'ci', '4_threads']: 1121.214390 ms per frame\n",
      "['lazycache', 'local', 'cached', 'ci', '8_threads']: 1177.674651 ms per frame\n"
     ]
    },
    {
     "data": {
      "image/png": "[encoded data removed]",
      "text/plain": [
       "<matplotlib.figure.Figure at 0x7fc7f849ce48>"
      ]
     },
     "metadata": {},
     "output_type": "display_data"
    }
   ],
   "source": [
    "keys = [\"lazycache\",\"local\",\"cached\"]\n",
    "\n",
    "seed = random.randint(0,65535)\n",
    "run_analysis( lazycache_berna( local_cached_url ), keys + [\"local_disk\"], seed = seed )\n",
    "run_analysis( lazycache_berna( local_cached_url ), keys + [\"local_disk\"], seed = seed )\n",
    "\n",
    "seed = random.randint(0,65535)\n",
    "run_analysis( lazycache_nginx( local_cached_url ), keys + [\"local_nginx\"], seed = seed  )\n",
    "run_analysis( lazycache_nginx( local_cached_url ), keys + [\"local_nginx\"], seed = seed  )\n",
    "\n",
    "seed = random.randint(0,65535)\n",
    "run_analysis( lazycache_ci( local_cached_url ), keys + [\"ci\"], seed = seed  )\n",
    "run_analysis( lazycache_ci( local_cached_url ), keys + [\"ci\"], seed = seed  )"
   ]
  },
  {
   "cell_type": "markdown",
   "metadata": {},
   "source": [
    "# Google App Engine instance of Lazycache\n",
    "\n",
    "## Without cache"
   ]
  },
  {
   "cell_type": "code",
   "execution_count": 36,
   "metadata": {},
   "outputs": [
    {
     "name": "stdout",
     "output_type": "stream",
     "text": [
      "['lazycache', 'gae', 'uncached', 'ci', '1_threads']: 4575.182080 ms per frame\n",
      "['lazycache', 'gae', 'uncached', 'ci', '2_threads']: 3985.143900 ms per frame\n",
      "['lazycache', 'gae', 'uncached', 'ci', '4_threads']: 4260.840416 ms per frame\n",
      "['lazycache', 'gae', 'uncached', 'ci', '8_threads']: 3732.289076 ms per frame\n",
      "['lazycache', 'gae', 'uncached', 'ci', '1_threads']: 3491.905451 ms per frame\n",
      "['lazycache', 'gae', 'uncached', 'ci', '2_threads']: 3869.384408 ms per frame\n",
      "['lazycache', 'gae', 'uncached', 'ci', '4_threads']: 4183.405399 ms per frame\n",
      "['lazycache', 'gae', 'uncached', 'ci', '8_threads']: 3866.662860 ms per frame\n"
     ]
    },
    {
     "data": {
      "image/png": "[encoded data removed]",
      "text/plain": [
       "<matplotlib.figure.Figure at 0x7fc86b023f98>"
      ]
     },
     "metadata": {},
     "output_type": "display_data"
    }
   ],
   "source": [
    "keys = [\"lazycache\", \"gae\", \"uncached\"]\n",
    "\n",
    "seed = random.randint(0,65535)\n",
    "run_analysis( lazycache_ci( gae_uncached_url ), keys + [\"ci\"], seed = seed )\n",
    "run_analysis( lazycache_ci( gae_uncached_url ), keys + [\"ci\"], seed = seed  )"
   ]
  },
  {
   "cell_type": "markdown",
   "metadata": {},
   "source": [
    "### With cache"
   ]
  },
  {
   "cell_type": "code",
   "execution_count": 37,
   "metadata": {},
   "outputs": [
    {
     "name": "stdout",
     "output_type": "stream",
     "text": [
      "['lazycache', 'gae', 'cached', 'ci', '1_threads']: 4797.819138 ms per frame\n",
      "['lazycache', 'gae', 'cached', 'ci', '2_threads']: 4932.336211 ms per frame\n",
      "['lazycache', 'gae', 'cached', 'ci', '4_threads']: 4983.577967 ms per frame\n",
      "['lazycache', 'gae', 'cached', 'ci', '8_threads']: 5441.989541 ms per frame\n",
      "['lazycache', 'gae', 'cached', 'ci', '1_threads']: 2498.637795 ms per frame\n",
      "['lazycache', 'gae', 'cached', 'ci', '2_threads']: 2416.334152 ms per frame\n",
      "['lazycache', 'gae', 'cached', 'ci', '4_threads']: 2371.789336 ms per frame\n",
      "['lazycache', 'gae', 'cached', 'ci', '8_threads']: 2217.512131 ms per frame\n"
     ]
    },
    {
     "data": {
      "image/png": "[encoded data removed]",
      "text/plain": [
       "<matplotlib.figure.Figure at 0x7fc83059f780>"
      ]
     },
     "metadata": {},
     "output_type": "display_data"
    }
   ],
   "source": [
    "keys = [\"lazycache\", \"gae\", \"cached\"]\n",
    "\n",
    "seed = random.randint(0,65535)\n",
    "run_analysis( lazycache_ci( gae_cached_url ), keys + [\"ci\"], seed = seed  )\n",
    "run_analysis( lazycache_ci( gae_cached_url ), keys + [\"ci\"], seed = seed  )"
   ]
  },
  {
   "cell_type": "code",
   "execution_count": null,
   "metadata": {
    "collapsed": true
   },
   "outputs": [],
   "source": []
  }
 ],
 "metadata": {
  "kernelspec": {
   "display_name": "LazyQT Test",
   "language": "python",
   "name": "lazyqt_test"
  },
  "language_info": {
   "codemirror_mode": {
    "name": "ipython",
    "version": 3
   },
   "file_extension": ".py",
   "mimetype": "text/x-python",
   "name": "python",
   "nbconvert_exporter": "python",
   "pygments_lexer": "ipython3",
   "version": "3.6.1"
  }
 },
 "nbformat": 4,
 "nbformat_minor": 2
}
