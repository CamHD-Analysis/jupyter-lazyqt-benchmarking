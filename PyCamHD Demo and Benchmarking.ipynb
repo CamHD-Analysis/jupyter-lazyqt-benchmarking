{
 "cells": [
  {
   "cell_type": "code",
   "execution_count": 29,
   "metadata": {
    "collapsed": true
   },
   "outputs": [],
   "source": [
    "%matplotlib inline\n",
    "import pycamhd as camhd\n",
    "import numpy as np\n",
    "import matplotlib.pyplot as plt\n",
    "plt.rc('figure', figsize=(12, 12))\n",
    "\n",
    "import random"
   ]
  },
  {
   "cell_type": "code",
   "execution_count": 30,
   "metadata": {
    "collapsed": true
   },
   "outputs": [],
   "source": [
    "import time\n",
    "\n",
    "class Timer(object):\n",
    "    def __init__(self, verbose=False):\n",
    "        self.verbose = verbose\n",
    "\n",
    "    def __enter__(self):\n",
    "        self.start = time.time()\n",
    "        return self\n",
    "\n",
    "    def __exit__(self, *args):\n",
    "        self.end = time.time()\n",
    "        self.secs = self.end - self.start\n",
    "        self.msecs = self.secs * 1000  # millisecs\n",
    "        if self.verbose:\n",
    "            print( 'elapsed time: %f ms' % self.msecs)"
   ]
  },
  {
   "cell_type": "code",
   "execution_count": 31,
   "metadata": {
    "collapsed": true
   },
   "outputs": [],
   "source": [
    "filename = b'/data/CAMHDA301-20160724T030000Z.mov'\n",
    "num_frames = 10\n",
    "\n",
    "def random_frames( n_frames ):\n",
    "    random.seed(1)   # I want this to be _non_-random\n",
    "    return random.sample(range(25000), n_frames )"
   ]
  },
  {
   "cell_type": "code",
   "execution_count": 32,
   "metadata": {},
   "outputs": [
    {
     "name": "stdout",
     "output_type": "stream",
     "text": [
      "/data/CAMHDA301-20160724T030000Z.mov has 25162 frames\n",
      "CPU times: user 0 ns, sys: 0 ns, total: 0 ns\n",
      "Wall time: 564 µs\n"
     ]
    }
   ],
   "source": [
    "%%time\n",
    "moov_atom = camhd.get_moov_atom(filename)\n",
    "frame_count = camhd.get_frame_count(filename, moov_atom)\n",
    "print(\"%s has %d frames\" % (filename, frame_count) )"
   ]
  },
  {
   "cell_type": "code",
   "execution_count": 34,
   "metadata": {},
   "outputs": [
    {
     "name": "stdout",
     "output_type": "stream",
     "text": [
      "Pycamhd: 35.627818 ms per frame\n"
     ]
    }
   ],
   "source": [
    "times = []\n",
    "for i in random_frames(num_frames):\n",
    "    with Timer() as t:\n",
    "        frame = camhd.get_frame(filename, frame_number, 'rgb24')\n",
    "    times.append(t)\n",
    "\n",
    "msec = [t.msecs for t in times]\n",
    "print(\"Pycamhd: %f ms per frame\" % np.mean(msec))"
   ]
  },
  {
   "cell_type": "code",
   "execution_count": null,
   "metadata": {},
   "outputs": [],
   "source": [
    "imgplot = plt.imshow(frame)"
   ]
  },
  {
   "cell_type": "code",
   "execution_count": null,
   "metadata": {
    "collapsed": true
   },
   "outputs": [],
   "source": []
  }
 ],
 "metadata": {
  "kernelspec": {
   "display_name": "PyCamHD",
   "language": "python",
   "name": "pycamhd"
  },
  "language_info": {
   "codemirror_mode": {
    "name": "ipython",
    "version": 2
   },
   "file_extension": ".py",
   "mimetype": "text/x-python",
   "name": "python",
   "nbconvert_exporter": "python",
   "pygments_lexer": "ipython2",
   "version": "2.7.13"
  }
 },
 "nbformat": 4,
 "nbformat_minor": 2
}
